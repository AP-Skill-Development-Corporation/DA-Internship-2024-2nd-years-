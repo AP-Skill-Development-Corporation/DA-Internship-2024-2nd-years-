{
 "cells": [
  {
   "cell_type": "markdown",
   "id": "5693dee8",
   "metadata": {},
   "source": [
    "#### Day Objectives:\n",
    "    - Conditional Satements in python\n",
    "    - Control Statements in python"
   ]
  },
  {
   "cell_type": "markdown",
   "id": "ee1877fc",
   "metadata": {},
   "source": [
    "#### keyword:\n",
    "    - it is a reserved word\n",
    "    - a word that has a specific function\n",
    "    - import module name\n",
    "            import keyword"
   ]
  },
  {
   "cell_type": "code",
   "execution_count": 1,
   "id": "c7c79bc4",
   "metadata": {},
   "outputs": [],
   "source": [
    "import keyword"
   ]
  },
  {
   "cell_type": "code",
   "execution_count": 2,
   "id": "5ef39d7f",
   "metadata": {},
   "outputs": [
    {
     "name": "stdout",
     "output_type": "stream",
     "text": [
      "['False', 'None', 'True', '__peg_parser__', 'and', 'as', 'assert', 'async', 'await', 'break', 'class', 'continue', 'def', 'del', 'elif', 'else', 'except', 'finally', 'for', 'from', 'global', 'if', 'import', 'in', 'is', 'lambda', 'nonlocal', 'not', 'or', 'pass', 'raise', 'return', 'try', 'while', 'with', 'yield']\n"
     ]
    }
   ],
   "source": [
    "print(keyword.kwlist)"
   ]
  },
  {
   "cell_type": "code",
   "execution_count": 3,
   "id": "1f1533a3",
   "metadata": {},
   "outputs": [
    {
     "name": "stdout",
     "output_type": "stream",
     "text": [
      "36\n"
     ]
    }
   ],
   "source": [
    "print(len(keyword.kwlist))"
   ]
  },
  {
   "cell_type": "markdown",
   "id": "691d455f",
   "metadata": {},
   "source": [
    "##### Conditional Statemet:\n",
    "        - it helps to decide what the program should do next baesd upon the given condition\n",
    "        - flow of execution\n",
    "        - conditional statements:\n",
    "                    - if statement\n",
    "                    - if else statement\n",
    "                    - elif statement\n",
    "                    - nested if statement"
   ]
  },
  {
   "cell_type": "markdown",
   "id": "c7758305",
   "metadata": {},
   "source": [
    "#### if statement:\n",
    "        - it checks the single statement\n",
    "        - syntax:\n",
    "            if condition:\n",
    "                #### code\n",
    "                "
   ]
  },
  {
   "cell_type": "code",
   "execution_count": 5,
   "id": "d0a9e990",
   "metadata": {},
   "outputs": [
    {
     "name": "stdout",
     "output_type": "stream",
     "text": [
      "Enter a number:-8\n"
     ]
    }
   ],
   "source": [
    "# write program to check whether the given number is positive or not?\n",
    "n=int(input(\"Enter a number:\"))\n",
    "if n>0:\n",
    "    print(\"the given number is positive number\")"
   ]
  },
  {
   "cell_type": "markdown",
   "id": "9294c594",
   "metadata": {},
   "source": [
    "##### if else statement:\n",
    "        - it checks the two statements\n",
    "        - syntax:\n",
    "            if condition:\n",
    "                ### code\n",
    "            else:\n",
    "                ### code"
   ]
  },
  {
   "cell_type": "code",
   "execution_count": 6,
   "id": "a4625001",
   "metadata": {},
   "outputs": [
    {
     "name": "stdout",
     "output_type": "stream",
     "text": [
      "Enter x value here:65\n",
      "Enter y value here:90\n",
      "90 is the largest number among these\n"
     ]
    }
   ],
   "source": [
    "# write a program to print the largest number of given 2 numbers\n",
    "x=int(input(\"Enter x value here:\"))\n",
    "y=int(input(\"Enter y value here:\"))\n",
    "if x>y:\n",
    "    print(x,\"is the largest number among these\")\n",
    "else:\n",
    "    print(y,\"is the largest number among these\")"
   ]
  },
  {
   "cell_type": "markdown",
   "id": "a21b9965",
   "metadata": {},
   "source": [
    "#### elif statement:\n",
    "        - it checks more than two conditional statements\n",
    "        - syntax:\n",
    "                if condition:\n",
    "                    # statement\n",
    "                elif condition:\n",
    "                    # statement\n",
    "                elif condition:\n",
    "                    # statement\n",
    "                    .\n",
    "                    .\n",
    "                    .\n",
    "                    .\n",
    "                else:\n",
    "                    # statement\n",
    "                     "
   ]
  },
  {
   "cell_type": "code",
   "execution_count": 7,
   "id": "e1569f2a",
   "metadata": {},
   "outputs": [
    {
     "name": "stdout",
     "output_type": "stream",
     "text": [
      "Enter a value:67\n",
      "Enter b value:90\n",
      "Enter c value:100\n",
      "100 is a largest number of among two numbers\n"
     ]
    }
   ],
   "source": [
    "# write a program to check largest number of among 3 numbers?\n",
    "a=int(input(\"Enter a value:\"))\n",
    "b=int(input(\"Enter b value:\"))\n",
    "c=int(input(\"Enter c value:\"))\n",
    "if a>b and a>c:\n",
    "    print(a,\"is a largest number of among two numbers\")\n",
    "elif b>c:\n",
    "    print(b,\"is a largest number of among two numbers\")\n",
    "else:\n",
    "    print(c,\"is a largest number of among two numbers\")"
   ]
  },
  {
   "cell_type": "markdown",
   "id": "21e85878",
   "metadata": {},
   "source": [
    "##### nestedif:\n",
    "        - if we write if inside another if condition then we considered as a nested if\n",
    "        - syntax:\n",
    "            if condition:\n",
    "                if condition:\n",
    "                    # statement\n",
    "                else:\n",
    "                    # statement\n",
    "            else:\n",
    "                # statement"
   ]
  },
  {
   "cell_type": "code",
   "execution_count": 10,
   "id": "ccd409cf",
   "metadata": {},
   "outputs": [
    {
     "name": "stdout",
     "output_type": "stream",
     "text": [
      "Enter a number:5\n",
      "5 is a positive number\n"
     ]
    }
   ],
   "source": [
    "# write a program to check whether the given number is +ve or -ve or equals to zero?\n",
    "n=int(input(\"Enter a number:\"))\n",
    "if n>=0:\n",
    "    if n==0:\n",
    "        print(n,\"equals to zero\")\n",
    "    else:\n",
    "        print(n,\"is a positive number\")\n",
    "else:\n",
    "    print(n,\"is a negetive number\")\n",
    "        "
   ]
  },
  {
   "cell_type": "markdown",
   "id": "0920cc06",
   "metadata": {},
   "source": [
    "##### control statements in python:\n",
    "    - to control the flow of program execution\n",
    "    - control statements:\n",
    "            - for loop\n",
    "            - while loop\n",
    "            "
   ]
  },
  {
   "cell_type": "markdown",
   "id": "e192092a",
   "metadata": {},
   "source": [
    "#### forloop:\n",
    "    - for loop is used to iterate over sequence like string,list,tuple,range of element etc..\n",
    "    - syntax:\n",
    "        for variable_name in range(start range,end range+1,step_value)"
   ]
  },
  {
   "cell_type": "code",
   "execution_count": 11,
   "id": "c13ca0db",
   "metadata": {
    "collapsed": true
   },
   "outputs": [
    {
     "name": "stdout",
     "output_type": "stream",
     "text": [
      "1\n",
      "2\n",
      "3\n",
      "4\n",
      "5\n",
      "6\n",
      "7\n",
      "8\n",
      "9\n",
      "10\n"
     ]
    }
   ],
   "source": [
    "for i in range(1,11):\n",
    "    print(i)"
   ]
  },
  {
   "cell_type": "code",
   "execution_count": 13,
   "id": "aeea33bb",
   "metadata": {},
   "outputs": [
    {
     "name": "stdout",
     "output_type": "stream",
     "text": [
      "1 2 3 4 5 6 7 8 9 10 "
     ]
    }
   ],
   "source": [
    "for i in range(1,11,1):\n",
    "    print(i,end=\" \")"
   ]
  },
  {
   "cell_type": "code",
   "execution_count": 14,
   "id": "e7a7e3d1",
   "metadata": {},
   "outputs": [
    {
     "name": "stdout",
     "output_type": "stream",
     "text": [
      "0 1 2 3 4 5 6 7 8 9 "
     ]
    }
   ],
   "source": [
    "for j in range(10):\n",
    "    print(j,end=\" \")"
   ]
  },
  {
   "cell_type": "code",
   "execution_count": 16,
   "id": "8696604c",
   "metadata": {},
   "outputs": [
    {
     "name": "stdout",
     "output_type": "stream",
     "text": [
      "10 9 8 7 6 5 4 3 2 1 "
     ]
    }
   ],
   "source": [
    "# reverse order\n",
    "for k in range(10,0,-1):\n",
    "    print(k,end=\" \")"
   ]
  },
  {
   "cell_type": "code",
   "execution_count": 17,
   "id": "55a077b5",
   "metadata": {},
   "outputs": [
    {
     "name": "stdout",
     "output_type": "stream",
     "text": [
      "10 8 6 4 2 "
     ]
    }
   ],
   "source": [
    "# alternate elements in reverse order\n",
    "for k in range(10,0,-2):\n",
    "    print(k,end=\" \")"
   ]
  },
  {
   "cell_type": "code",
   "execution_count": 18,
   "id": "7b187cd6",
   "metadata": {},
   "outputs": [
    {
     "name": "stdout",
     "output_type": "stream",
     "text": [
      "1 3 5 7 9 11 13 15 17 19 "
     ]
    }
   ],
   "source": [
    "for k in range(1,21,2):\n",
    "    print(k,end=\" \")"
   ]
  },
  {
   "cell_type": "code",
   "execution_count": 19,
   "id": "e54f10f5",
   "metadata": {},
   "outputs": [
    {
     "name": "stdout",
     "output_type": "stream",
     "text": [
      "0 2 4 6 8 10 12 14 16 18 20 "
     ]
    }
   ],
   "source": [
    "for k in range(0,21,2):\n",
    "    print(k,end=\" \")"
   ]
  },
  {
   "cell_type": "code",
   "execution_count": 20,
   "id": "768e7166",
   "metadata": {},
   "outputs": [
    {
     "name": "stdout",
     "output_type": "stream",
     "text": [
      "500 502 504 506 508 510 512 514 516 518 520 522 524 526 528 530 532 534 536 538 540 542 544 546 548 550 "
     ]
    }
   ],
   "source": [
    "for i in range(500,551,2):\n",
    "    print(i,end=\" \")"
   ]
  },
  {
   "cell_type": "code",
   "execution_count": null,
   "id": "bd07ff46",
   "metadata": {},
   "outputs": [],
   "source": []
  }
 ],
 "metadata": {
  "kernelspec": {
   "display_name": "Python 3 (ipykernel)",
   "language": "python",
   "name": "python3"
  },
  "language_info": {
   "codemirror_mode": {
    "name": "ipython",
    "version": 3
   },
   "file_extension": ".py",
   "mimetype": "text/x-python",
   "name": "python",
   "nbconvert_exporter": "python",
   "pygments_lexer": "ipython3",
   "version": "3.9.13"
  }
 },
 "nbformat": 4,
 "nbformat_minor": 5
}
