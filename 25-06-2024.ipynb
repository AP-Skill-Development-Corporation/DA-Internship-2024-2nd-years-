{
 "cells": [
  {
   "cell_type": "markdown",
   "id": "a0734701",
   "metadata": {},
   "source": [
    "### File handling\n",
    "\n",
    "* File is a collection of records\n",
    "* Python file handling : create, open, append, Read , write\n",
    "    * creating a new file\n",
    "    * write the data\n",
    "    * Read data from a file\n",
    "    * Append data to a file\n",
    "    * Close the file\n",
    "\n"
   ]
  },
  {
   "cell_type": "markdown",
   "id": "e72ea138",
   "metadata": {},
   "source": [
    "### Mode of operations:\n",
    "\n",
    "* 'r' - Read mode which is used when the file is being read\n",
    "* 'w' - Write mode , which is used to edit and write new data to a file(overwrites files\n",
    "data)\n",
    "* 'a' - append mode, which is used to add new data to end of the file i.e new data will be  automatically added to previous existing data\n",
    "* 'r+' - special read and write mode, which is used to handle both read and write operations"
   ]
  },
  {
   "cell_type": "markdown",
   "id": "c9aca229",
   "metadata": {},
   "source": [
    "### In-Built functions:\n",
    "* open : open(path,mode)\n",
    "* close: file_name.close()"
   ]
  },
  {
   "cell_type": "code",
   "execution_count": 18,
   "id": "98720403",
   "metadata": {},
   "outputs": [],
   "source": [
    "# creating a file and writing data into a file\n",
    "\n",
    "\n",
    "f=open(\"myfile.txt\",'w') \n",
    "f.write(\"hello world\")\n",
    "f.close()"
   ]
  },
  {
   "cell_type": "code",
   "execution_count": 19,
   "id": "2d733b90",
   "metadata": {},
   "outputs": [],
   "source": [
    "# write -> overwrites the existing data\n",
    "\n",
    "f=open(\"myfile.txt\",\"w\")\n",
    "f.write(\"python programming\")\n",
    "f.close()"
   ]
  },
  {
   "cell_type": "code",
   "execution_count": 20,
   "id": "22ca419d",
   "metadata": {},
   "outputs": [
    {
     "name": "stdout",
     "output_type": "stream",
     "text": [
      "python programming\n"
     ]
    }
   ],
   "source": [
    "# Read file data\n",
    "\n",
    "\n",
    "f=open(\"myfile.txt\",'r')\n",
    "data=f.read()\n",
    "print(data)\n",
    "f.close()"
   ]
  },
  {
   "cell_type": "code",
   "execution_count": 21,
   "id": "42cb5dc1",
   "metadata": {},
   "outputs": [],
   "source": [
    "# read() , readlines() , readline()\n",
    "\n",
    "# read()  - read all data\n",
    "# readlines()  - returns all file data lines in list format\n",
    "# readline()  - returns a  single line from a file"
   ]
  },
  {
   "cell_type": "code",
   "execution_count": 22,
   "id": "504bf2ab",
   "metadata": {},
   "outputs": [
    {
     "data": {
      "text/plain": [
       "['python programming']"
      ]
     },
     "execution_count": 22,
     "metadata": {},
     "output_type": "execute_result"
    }
   ],
   "source": [
    "# readlines\n",
    "\n",
    "f=open(\"myfile.txt\",'r')\n",
    "f.readlines()"
   ]
  },
  {
   "cell_type": "code",
   "execution_count": 15,
   "id": "973ef4fc",
   "metadata": {},
   "outputs": [
    {
     "data": {
      "text/plain": [
       "'python programming'"
      ]
     },
     "execution_count": 15,
     "metadata": {},
     "output_type": "execute_result"
    }
   ],
   "source": [
    "# readline()\n",
    "\n",
    "f=open(\"myfile.txt\",'r')\n",
    "f.readline()"
   ]
  },
  {
   "cell_type": "code",
   "execution_count": 16,
   "id": "00db6631",
   "metadata": {},
   "outputs": [
    {
     "data": {
      "text/plain": [
       "'python programming'"
      ]
     },
     "execution_count": 16,
     "metadata": {},
     "output_type": "execute_result"
    }
   ],
   "source": [
    "# read()\n",
    "\n",
    "f=open(\"myfile.txt\",'r')\n",
    "f.read()"
   ]
  },
  {
   "cell_type": "code",
   "execution_count": 23,
   "id": "27044c67",
   "metadata": {},
   "outputs": [],
   "source": [
    "# append() -> adds new data to previous data\n",
    "\n",
    "f=open(\"myfile.txt\",'a')\n",
    "f.write(\"\\n how are you? \")\n",
    "f.close()"
   ]
  },
  {
   "cell_type": "code",
   "execution_count": 25,
   "id": "8c674d8e",
   "metadata": {},
   "outputs": [],
   "source": [
    "\n",
    "f=open(\"myfile.txt\",'a')\n",
    "f.write(\"\\n hello all \")\n",
    "f.close()"
   ]
  },
  {
   "cell_type": "code",
   "execution_count": 27,
   "id": "5b23d2ed",
   "metadata": {},
   "outputs": [
    {
     "name": "stdout",
     "output_type": "stream",
     "text": [
      "python programming\n",
      "hello world\n",
      "happy learning\n",
      " how are you? \n",
      " hello all \n",
      " hello all \n"
     ]
    }
   ],
   "source": [
    "# r+ both read and write\n",
    "\n",
    "f=open(\"myfile.txt\",'r+')\n",
    "print(f.read())\n",
    "f.write(\"\\n good evening\")\n",
    "f.close()"
   ]
  },
  {
   "cell_type": "code",
   "execution_count": 29,
   "id": "e172d2f2",
   "metadata": {},
   "outputs": [
    {
     "name": "stdout",
     "output_type": "stream",
     "text": [
      "number of file lines:  7\n"
     ]
    }
   ],
   "source": [
    "# write a program to find number of lines in a file\n",
    "\n",
    "f=open(\"myfile.txt\",'r')\n",
    "data=f.readlines()\n",
    "nl=len(data)\n",
    "print(\"number of file lines: \",nl)\n",
    "f.close()"
   ]
  },
  {
   "cell_type": "code",
   "execution_count": 33,
   "id": "104002de",
   "metadata": {},
   "outputs": [
    {
     "name": "stdout",
     "output_type": "stream",
     "text": [
      "['python', 'programming', 'hello', 'world', 'happy', 'learning', 'how', 'are', 'you?', 'hello', 'all', 'hello', 'all', 'good', 'evening']\n",
      "number of words in the file:  15\n"
     ]
    }
   ],
   "source": [
    "# write a program to find number of words in a file\n",
    "\n",
    "f=open(\"myfile.txt\",'r')\n",
    "data=f.read()\n",
    "words=data.split()\n",
    "print(words)\n",
    "nw=len(words)\n",
    "print(\"number of words in the file: \",nw)"
   ]
  },
  {
   "cell_type": "code",
   "execution_count": null,
   "id": "a6e309e2",
   "metadata": {},
   "outputs": [],
   "source": []
  }
 ],
 "metadata": {
  "kernelspec": {
   "display_name": "Python 3 (ipykernel)",
   "language": "python",
   "name": "python3"
  },
  "language_info": {
   "codemirror_mode": {
    "name": "ipython",
    "version": 3
   },
   "file_extension": ".py",
   "mimetype": "text/x-python",
   "name": "python",
   "nbconvert_exporter": "python",
   "pygments_lexer": "ipython3",
   "version": "3.9.13"
  }
 },
 "nbformat": 4,
 "nbformat_minor": 5
}
