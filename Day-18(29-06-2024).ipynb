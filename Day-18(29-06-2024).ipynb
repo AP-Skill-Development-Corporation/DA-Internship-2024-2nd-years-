{
 "cells": [
  {
   "cell_type": "markdown",
   "id": "94654033",
   "metadata": {},
   "source": [
    "#### Problem Solving On re\n",
    "        - Mobile number validation\n",
    "        - Gmail Validation"
   ]
  },
  {
   "cell_type": "code",
   "execution_count": null,
   "id": "d123eecb",
   "metadata": {},
   "outputs": [],
   "source": [
    "- startswith-->6,7,8,9\n",
    "- mobile no length-->10\n",
    "- digits range--->0-9\n",
    "\n",
    "######\n",
    "    0---mobile no\n",
    "##### \n",
    "    +91--->mobile no"
   ]
  },
  {
   "cell_type": "code",
   "execution_count": 1,
   "id": "4e758002",
   "metadata": {},
   "outputs": [],
   "source": [
    "import re"
   ]
  },
  {
   "cell_type": "code",
   "execution_count": 7,
   "id": "989b8e40",
   "metadata": {},
   "outputs": [
    {
     "name": "stdout",
     "output_type": "stream",
     "text": [
      "enter your mobile number:+919090909090\n",
      "valid phone number\n"
     ]
    }
   ],
   "source": [
    "#### pattern for mobile number validation\n",
    "n=int(input(\"enter your mobile number:\"))\n",
    "pattern='^[6-9][0-9]{9}|^[0][6-9][0-9]{9}|^[+][9][1][6-9][0-9]{9}$'\n",
    "if re.match(pattern,str(n)):\n",
    "    print(\"valid phone number\")\n",
    "else:\n",
    "    print(\"invalid phone number\")"
   ]
  },
  {
   "cell_type": "markdown",
   "id": "1cad6d93",
   "metadata": {},
   "source": [
    "##### pattern for gmail validation\n",
    "##### ex:srikanya659@gmail.com\n",
    "    - username starts with--->alphabates--->[a-z]\n",
    "    - remaining--->digits,alphabates,.,_\n",
    "    - length--->{min,max}\n",
    "    - @\n",
    "    - domain\n",
    "        - statswith\n",
    "        - length\n",
    "    - .\n",
    "    - starts with\n",
    "    - {min,max}"
   ]
  },
  {
   "cell_type": "code",
   "execution_count": 11,
   "id": "2554d868",
   "metadata": {},
   "outputs": [
    {
     "name": "stdout",
     "output_type": "stream",
     "text": [
      "Enter your gmail:srikanya_659@gmail.com\n",
      "valid mail\n"
     ]
    }
   ],
   "source": [
    "g=input(\"Enter your gmail:\")\n",
    "pattern='^[a-z][a-z0-9._]{4,14}[@][a-z]{3,10}[.][a-z]{1,5}$'\n",
    "if re.match(pattern,g):\n",
    "    print(\"valid mail\")\n",
    "else:\n",
    "    print(\"invalid mail\")\n",
    "    "
   ]
  },
  {
   "cell_type": "code",
   "execution_count": null,
   "id": "204b5eba",
   "metadata": {},
   "outputs": [],
   "source": []
  }
 ],
 "metadata": {
  "kernelspec": {
   "display_name": "Python 3 (ipykernel)",
   "language": "python",
   "name": "python3"
  },
  "language_info": {
   "codemirror_mode": {
    "name": "ipython",
    "version": 3
   },
   "file_extension": ".py",
   "mimetype": "text/x-python",
   "name": "python",
   "nbconvert_exporter": "python",
   "pygments_lexer": "ipython3",
   "version": "3.9.13"
  }
 },
 "nbformat": 4,
 "nbformat_minor": 5
}
