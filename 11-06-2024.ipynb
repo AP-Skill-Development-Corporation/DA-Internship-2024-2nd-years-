{
 "cells": [
  {
   "cell_type": "markdown",
   "id": "7d4b09eb",
   "metadata": {},
   "source": [
    "### python basics\n",
    "\n",
    "* how to check python version\n",
    "* comments in python\n",
    "* Data types\n",
    "* variable\n",
    "* operators"
   ]
  },
  {
   "cell_type": "code",
   "execution_count": 1,
   "id": "1b90e51c",
   "metadata": {},
   "outputs": [
    {
     "data": {
      "text/plain": [
       "'3.9.13 (main, Aug 25 2022, 23:51:50) [MSC v.1916 64 bit (AMD64)]'"
      ]
     },
     "execution_count": 1,
     "metadata": {},
     "output_type": "execute_result"
    }
   ],
   "source": [
    "# how to check your python version\n",
    "\n",
    "import sys\n",
    "sys.version"
   ]
  },
  {
   "cell_type": "code",
   "execution_count": 2,
   "id": "bd52df13",
   "metadata": {},
   "outputs": [
    {
     "data": {
      "text/plain": [
       "'Multi \\n            Line\\n                        Commnts'"
      ]
     },
     "execution_count": 2,
     "metadata": {},
     "output_type": "execute_result"
    }
   ],
   "source": [
    "# comments in python\n",
    "\n",
    "# single line comment\n",
    "\n",
    "\"\"\"Multi \n",
    "            Line\n",
    "                        Commnts\"\"\""
   ]
  },
  {
   "cell_type": "markdown",
   "id": "65ed0b74",
   "metadata": {},
   "source": [
    "### Data types\n",
    "\n",
    "* int\n",
    "* float\n",
    "* string\n",
    "* bool\n",
    "* complex"
   ]
  },
  {
   "cell_type": "code",
   "execution_count": 15,
   "id": "63752f6e",
   "metadata": {},
   "outputs": [
    {
     "name": "stdout",
     "output_type": "stream",
     "text": [
      "908\n",
      "<class 'int'>\n",
      "87.6 <class 'float'>\n",
      "python <class 'str'>\n",
      "True <class 'bool'>\n",
      "(56+90j) <class 'complex'>\n"
     ]
    }
   ],
   "source": [
    "a=908\n",
    "print(a)\n",
    "print(type(a))  # to know the data type of a variable\n",
    "b=87.6\n",
    "print(b,type(b))\n",
    "c='f'   # char\n",
    "d=\"python\"  # string\n",
    "print(d,type(d))\n",
    "e=True\n",
    "print(e,type(e))\n",
    "f=56+90j   # a+bj\n",
    "print(f,type(f))"
   ]
  },
  {
   "cell_type": "code",
   "execution_count": 17,
   "id": "84bcf2de",
   "metadata": {},
   "outputs": [
    {
     "name": "stdout",
     "output_type": "stream",
     "text": [
      "<class 'str'>\n",
      "100 <class 'int'>\n"
     ]
    }
   ],
   "source": [
    "# type casting -> converting one datatype to other\n",
    "\n",
    "a=\"100\"\n",
    "print(type(a))\n",
    "b=int(a)\n",
    "print(b,type(b))  "
   ]
  },
  {
   "cell_type": "code",
   "execution_count": 18,
   "id": "cde64227",
   "metadata": {
    "collapsed": true
   },
   "outputs": [
    {
     "name": "stdout",
     "output_type": "stream",
     "text": [
      "<class 'str'>\n"
     ]
    },
    {
     "ename": "ValueError",
     "evalue": "invalid literal for int() with base 10: 'python'",
     "output_type": "error",
     "traceback": [
      "\u001b[1;31m---------------------------------------------------------------------------\u001b[0m",
      "\u001b[1;31mValueError\u001b[0m                                Traceback (most recent call last)",
      "\u001b[1;32m~\\AppData\\Local\\Temp\\ipykernel_8988\\3687928575.py\u001b[0m in \u001b[0;36m<module>\u001b[1;34m\u001b[0m\n\u001b[0;32m      1\u001b[0m \u001b[0ma\u001b[0m\u001b[1;33m=\u001b[0m\u001b[1;34m\"python\"\u001b[0m\u001b[1;33m\u001b[0m\u001b[1;33m\u001b[0m\u001b[0m\n\u001b[0;32m      2\u001b[0m \u001b[0mprint\u001b[0m\u001b[1;33m(\u001b[0m\u001b[0mtype\u001b[0m\u001b[1;33m(\u001b[0m\u001b[0ma\u001b[0m\u001b[1;33m)\u001b[0m\u001b[1;33m)\u001b[0m\u001b[1;33m\u001b[0m\u001b[1;33m\u001b[0m\u001b[0m\n\u001b[1;32m----> 3\u001b[1;33m \u001b[0mb\u001b[0m\u001b[1;33m=\u001b[0m\u001b[0mint\u001b[0m\u001b[1;33m(\u001b[0m\u001b[0ma\u001b[0m\u001b[1;33m)\u001b[0m\u001b[1;33m\u001b[0m\u001b[1;33m\u001b[0m\u001b[0m\n\u001b[0m\u001b[0;32m      4\u001b[0m \u001b[0mprint\u001b[0m\u001b[1;33m(\u001b[0m\u001b[0mb\u001b[0m\u001b[1;33m)\u001b[0m\u001b[1;33m\u001b[0m\u001b[1;33m\u001b[0m\u001b[0m\n",
      "\u001b[1;31mValueError\u001b[0m: invalid literal for int() with base 10: 'python'"
     ]
    }
   ],
   "source": [
    "a=\"python\"\n",
    "print(type(a))\n",
    "b=int(a)\n",
    "print(b)"
   ]
  },
  {
   "cell_type": "code",
   "execution_count": 19,
   "id": "30aa0987",
   "metadata": {},
   "outputs": [
    {
     "name": "stdout",
     "output_type": "stream",
     "text": [
      "908 <class 'int'>\n"
     ]
    }
   ],
   "source": [
    "# float to int\n",
    "\n",
    "a=908.67\n",
    "b=int(a)\n",
    "print(b,type(b))"
   ]
  },
  {
   "cell_type": "markdown",
   "id": "ec559b39",
   "metadata": {},
   "source": [
    "### Operators\n",
    "\n",
    "* Arithmetic operators(+,-,*,/,%,//,**)\n",
    "\n"
   ]
  },
  {
   "cell_type": "code",
   "execution_count": 30,
   "id": "9ecadc47",
   "metadata": {},
   "outputs": [
    {
     "name": "stdout",
     "output_type": "stream",
     "text": [
      "98\n",
      "88\n",
      "465\n",
      "18.6\n",
      "3\n",
      "18\n",
      "90458382169\n"
     ]
    }
   ],
   "source": [
    "a=93\n",
    "b=5\n",
    "print(a+b)\n",
    "print(a-b)\n",
    "print(a*b)\n",
    "print(a/b)\n",
    "print(a%b)\n",
    "print(a//b)  #  floor division\n",
    "print(67**6)"
   ]
  },
  {
   "cell_type": "code",
   "execution_count": 34,
   "id": "cec2ccd8",
   "metadata": {},
   "outputs": [
    {
     "name": "stdout",
     "output_type": "stream",
     "text": [
      "45\n",
      "55\n",
      "50\n",
      "4500\n"
     ]
    }
   ],
   "source": [
    "### Assignment operators ( =,+=,-=,/=,%=,*=,**=,//=)\n",
    "\n",
    "a=45\n",
    "print(a)\n",
    "a+=10   # a=a+10\n",
    "print(a)\n",
    "a-=5     # a=a-5\n",
    "print(a)\n",
    "a*=90\n",
    "print(a)"
   ]
  },
  {
   "cell_type": "code",
   "execution_count": 40,
   "id": "6d7ed3ca",
   "metadata": {},
   "outputs": [
    {
     "name": "stdout",
     "output_type": "stream",
     "text": [
      "True\n",
      "False\n",
      "False\n",
      "True\n",
      "True\n"
     ]
    }
   ],
   "source": [
    "### Comparison operators (>,<,>=,<=,==,!=)\n",
    "\n",
    "a=89\n",
    "b=56\n",
    "print(a>b)\n",
    "print(a<b)\n",
    "print(a==b)\n",
    "print(a!=b)\n",
    "print(a>=b)"
   ]
  },
  {
   "cell_type": "code",
   "execution_count": 42,
   "id": "8c98fbea",
   "metadata": {},
   "outputs": [
    {
     "name": "stdout",
     "output_type": "stream",
     "text": [
      "True\n"
     ]
    }
   ],
   "source": [
    "a=90\n",
    "b=90\n",
    "print(a>=b)"
   ]
  },
  {
   "cell_type": "code",
   "execution_count": null,
   "id": "d0e3fe3d",
   "metadata": {},
   "outputs": [],
   "source": []
  }
 ],
 "metadata": {
  "kernelspec": {
   "display_name": "Python 3 (ipykernel)",
   "language": "python",
   "name": "python3"
  },
  "language_info": {
   "codemirror_mode": {
    "name": "ipython",
    "version": 3
   },
   "file_extension": ".py",
   "mimetype": "text/x-python",
   "name": "python",
   "nbconvert_exporter": "python",
   "pygments_lexer": "ipython3",
   "version": "3.9.13"
  }
 },
 "nbformat": 4,
 "nbformat_minor": 5
}
