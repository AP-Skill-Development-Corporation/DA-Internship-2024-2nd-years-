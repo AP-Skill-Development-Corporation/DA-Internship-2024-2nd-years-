{
 "cells": [
  {
   "cell_type": "markdown",
   "id": "363e2627",
   "metadata": {},
   "source": [
    "#### Day Objectives:\n",
    "        - Package And Module in python\n",
    "        - functional programming\n",
    "                - generators\n",
    "                - iterators"
   ]
  },
  {
   "cell_type": "markdown",
   "id": "7bd51393",
   "metadata": {},
   "source": [
    "#### Package:\n",
    "\n",
    "    - it is a collection of modules\n",
    "\n",
    "##### Module:\n",
    "    - it is .py file\n",
    "    - it contains collectcion of variables,classes,functions...\n",
    "    - by using \"import\" keyword we can access a module in python\n",
    "    \n",
    "             import module name\n",
    "\n",
    "##### Types of modules in python:\n",
    "        - built-in modules\n",
    "        - user-defined modules"
   ]
  },
  {
   "cell_type": "code",
   "execution_count": 1,
   "id": "5fd0f101",
   "metadata": {},
   "outputs": [],
   "source": [
    "#### buit-in mmodules:\n",
    "import keyword"
   ]
  },
  {
   "cell_type": "code",
   "execution_count": 2,
   "id": "c24081d9",
   "metadata": {},
   "outputs": [
    {
     "name": "stdout",
     "output_type": "stream",
     "text": [
      "['False', 'None', 'True', '__peg_parser__', 'and', 'as', 'assert', 'async', 'await', 'break', 'class', 'continue', 'def', 'del', 'elif', 'else', 'except', 'finally', 'for', 'from', 'global', 'if', 'import', 'in', 'is', 'lambda', 'nonlocal', 'not', 'or', 'pass', 'raise', 'return', 'try', 'while', 'with', 'yield']\n"
     ]
    }
   ],
   "source": [
    "print(keyword.kwlist)"
   ]
  },
  {
   "cell_type": "code",
   "execution_count": 3,
   "id": "df528836",
   "metadata": {},
   "outputs": [
    {
     "name": "stdout",
     "output_type": "stream",
     "text": [
      "36\n"
     ]
    }
   ],
   "source": [
    "print(len(keyword.kwlist))"
   ]
  },
  {
   "cell_type": "code",
   "execution_count": 4,
   "id": "d5d2fd74",
   "metadata": {},
   "outputs": [],
   "source": [
    "import math"
   ]
  },
  {
   "cell_type": "code",
   "execution_count": 14,
   "id": "494e5f70",
   "metadata": {},
   "outputs": [
    {
     "name": "stdout",
     "output_type": "stream",
     "text": [
      "120\n",
      "6\n",
      "3.141592653589793\n",
      "279936.0\n",
      "8\n",
      "7\n",
      "7.38905609893065\n"
     ]
    }
   ],
   "source": [
    "print(math.factorial(5))\n",
    "print(math.gcd(6,24))\n",
    "print(math.pi)\n",
    "print(math.pow(6,7))\n",
    "print(math.ceil(7.8))\n",
    "print(math.floor(7.8))\n",
    "print(math.exp(2))"
   ]
  },
  {
   "cell_type": "code",
   "execution_count": 23,
   "id": "22305dc7",
   "metadata": {},
   "outputs": [
    {
     "name": "stdout",
     "output_type": "stream",
     "text": [
      "0.34\n",
      "0.3334870921408144\n",
      "0.9427546655283462\n",
      "0.35373687803912257\n",
      "0.35373687803912257\n",
      "2.8269599865960315\n",
      "2.998616808766174\n",
      "1.0607213483685831\n"
     ]
    }
   ],
   "source": [
    "#### trignometric functions\n",
    "x=0.34\n",
    "print(x)\n",
    "print(math.sin(x))\n",
    "print(math.cos(x))\n",
    "print(math.tan(x))\n",
    "print(math.sin(x)/math.cos(x))\n",
    "print(math.cos(x)/math.sin(x))\n",
    "print(1/math.sin(x))\n",
    "print(1/math.cos(x))"
   ]
  },
  {
   "cell_type": "code",
   "execution_count": 30,
   "id": "01f42467",
   "metadata": {},
   "outputs": [
    {
     "name": "stdout",
     "output_type": "stream",
     "text": [
      "0.0\n",
      "1.0\n",
      "2.0\n",
      "1.0\n",
      "1.3010299956639813\n"
     ]
    }
   ],
   "source": [
    "##### logrithemic functions\n",
    "print(math.log(1))\n",
    "print(math.log2(2))\n",
    "print(math.log2(4))\n",
    "print(math.log10(10))\n",
    "print(math.log10(20))"
   ]
  },
  {
   "cell_type": "code",
   "execution_count": 32,
   "id": "f5e65d12",
   "metadata": {},
   "outputs": [],
   "source": [
    "import statistics as st"
   ]
  },
  {
   "cell_type": "code",
   "execution_count": 39,
   "id": "62b097d5",
   "metadata": {},
   "outputs": [
    {
     "name": "stdout",
     "output_type": "stream",
     "text": [
      "[23, 34, 45, 56, 23, 45, 89, 90, 67]\n",
      "[23, 23, 34, 45, 45, 56, 67, 89, 90]\n",
      "9\n"
     ]
    }
   ],
   "source": [
    "li=[23,34,45,56,23,45,89,90,67]\n",
    "print(li)\n",
    "print(sorted(li))\n",
    "print(len(li))\n"
   ]
  },
  {
   "cell_type": "code",
   "execution_count": 45,
   "id": "c4ef6acf",
   "metadata": {},
   "outputs": [
    {
     "name": "stdout",
     "output_type": "stream",
     "text": [
      "52.44444444444444\n",
      "45\n",
      "23\n",
      "644.5277777777777\n",
      "25.38755163023362\n",
      "2.8284271247461903\n"
     ]
    }
   ],
   "source": [
    "print(st.mean(li))\n",
    "print(st.median(li))\n",
    "print(st.mode(li))\n",
    "print(st.variance(li))\n",
    "print(st.stdev(li))\n",
    "print(st.sqrt(8))"
   ]
  },
  {
   "cell_type": "code",
   "execution_count": 42,
   "id": "70ca4f04",
   "metadata": {
    "collapsed": true
   },
   "outputs": [
    {
     "name": "stdout",
     "output_type": "stream",
     "text": [
      "['__doc__', '__loader__', '__name__', '__package__', '__spec__', 'acos', 'acosh', 'asin', 'asinh', 'atan', 'atan2', 'atanh', 'ceil', 'comb', 'copysign', 'cos', 'cosh', 'degrees', 'dist', 'e', 'erf', 'erfc', 'exp', 'expm1', 'fabs', 'factorial', 'floor', 'fmod', 'frexp', 'fsum', 'gamma', 'gcd', 'hypot', 'inf', 'isclose', 'isfinite', 'isinf', 'isnan', 'isqrt', 'lcm', 'ldexp', 'lgamma', 'log', 'log10', 'log1p', 'log2', 'modf', 'nan', 'nextafter', 'perm', 'pi', 'pow', 'prod', 'radians', 'remainder', 'sin', 'sinh', 'sqrt', 'tan', 'tanh', 'tau', 'trunc', 'ulp']\n"
     ]
    }
   ],
   "source": [
    "print(dir(math))"
   ]
  },
  {
   "cell_type": "code",
   "execution_count": 43,
   "id": "1a575dde",
   "metadata": {
    "collapsed": true
   },
   "outputs": [
    {
     "name": "stdout",
     "output_type": "stream",
     "text": [
      "['Counter', 'Decimal', 'Fraction', 'NormalDist', 'StatisticsError', '__all__', '__builtins__', '__cached__', '__doc__', '__file__', '__loader__', '__name__', '__package__', '__spec__', '_coerce', '_convert', '_exact_ratio', '_fail_neg', '_find_lteq', '_find_rteq', '_isfinite', '_normal_dist_inv_cdf', '_ss', '_sum', 'bisect_left', 'bisect_right', 'erf', 'exp', 'fabs', 'fmean', 'fsum', 'geometric_mean', 'groupby', 'harmonic_mean', 'hypot', 'itemgetter', 'log', 'math', 'mean', 'median', 'median_grouped', 'median_high', 'median_low', 'mode', 'multimode', 'numbers', 'pstdev', 'pvariance', 'quantiles', 'random', 'sqrt', 'stdev', 'tau', 'variance']\n"
     ]
    }
   ],
   "source": [
    "print(dir(st))"
   ]
  },
  {
   "cell_type": "code",
   "execution_count": 46,
   "id": "d2d5839d",
   "metadata": {},
   "outputs": [],
   "source": [
    "import sys"
   ]
  },
  {
   "cell_type": "code",
   "execution_count": 48,
   "id": "ada29374",
   "metadata": {},
   "outputs": [
    {
     "name": "stdout",
     "output_type": "stream",
     "text": [
      "['C:\\\\Users\\\\win\\\\Desktop\\\\Summer-Internship-DataAnalysis', 'C:\\\\ProgramData\\\\Anaconda3\\\\python39.zip', 'C:\\\\ProgramData\\\\Anaconda3\\\\DLLs', 'C:\\\\ProgramData\\\\Anaconda3\\\\lib', 'C:\\\\ProgramData\\\\Anaconda3', '', 'C:\\\\Users\\\\win\\\\AppData\\\\Roaming\\\\Python\\\\Python39\\\\site-packages', 'C:\\\\ProgramData\\\\Anaconda3\\\\lib\\\\site-packages', 'C:\\\\ProgramData\\\\Anaconda3\\\\lib\\\\site-packages\\\\win32', 'C:\\\\ProgramData\\\\Anaconda3\\\\lib\\\\site-packages\\\\win32\\\\lib', 'C:\\\\ProgramData\\\\Anaconda3\\\\lib\\\\site-packages\\\\Pythonwin', 'C:\\\\ProgramData\\\\Anaconda3\\\\lib\\\\site-packages\\\\IPython\\\\extensions', 'C:\\\\Users\\\\win\\\\.ipython']\n"
     ]
    }
   ],
   "source": [
    "print(sys.path)"
   ]
  },
  {
   "cell_type": "code",
   "execution_count": 49,
   "id": "2e6126f0",
   "metadata": {},
   "outputs": [],
   "source": [
    "import datetime"
   ]
  },
  {
   "cell_type": "code",
   "execution_count": 51,
   "id": "f4a7535b",
   "metadata": {},
   "outputs": [
    {
     "name": "stdout",
     "output_type": "stream",
     "text": [
      "2024-06-27\n"
     ]
    }
   ],
   "source": [
    "print(datetime.date.today())"
   ]
  },
  {
   "cell_type": "code",
   "execution_count": 55,
   "id": "0037b087",
   "metadata": {},
   "outputs": [
    {
     "name": "stdout",
     "output_type": "stream",
     "text": [
      "2024\n",
      "6\n",
      "27\n"
     ]
    }
   ],
   "source": [
    "y=datetime.date.today()\n",
    "print(y.year)\n",
    "print(y.month)\n",
    "print(y.day)"
   ]
  },
  {
   "cell_type": "code",
   "execution_count": 57,
   "id": "48b365f2",
   "metadata": {},
   "outputs": [],
   "source": [
    "import os"
   ]
  },
  {
   "cell_type": "code",
   "execution_count": 63,
   "id": "1a519336",
   "metadata": {},
   "outputs": [
    {
     "name": "stdout",
     "output_type": "stream",
     "text": [
      "C:\\Users\\win\\Desktop\\Summer-Internship-DataAnalysis\n",
      "nt\n",
      "True\n",
      "31\n"
     ]
    }
   ],
   "source": [
    "print(os.getcwd())\n",
    "print(os.name)\n",
    "print(os.path.exists('file.txt'))\n",
    "print(os.path.getsize('file.txt'))"
   ]
  },
  {
   "cell_type": "markdown",
   "id": "0055823d",
   "metadata": {},
   "source": [
    "##### Uerdefined module:\n",
    "    - the module which is created by a user"
   ]
  },
  {
   "cell_type": "code",
   "execution_count": 64,
   "id": "110107a7",
   "metadata": {},
   "outputs": [],
   "source": [
    "import Sample"
   ]
  },
  {
   "cell_type": "code",
   "execution_count": 66,
   "id": "99e49eb0",
   "metadata": {},
   "outputs": [
    {
     "name": "stdout",
     "output_type": "stream",
     "text": [
      "True\n"
     ]
    }
   ],
   "source": [
    "print(Sample.is_even(8))"
   ]
  },
  {
   "cell_type": "markdown",
   "id": "3faaccd5",
   "metadata": {},
   "source": [
    "#### iterators:\n",
    "        - iterator in python is simply an object that can be iterated upto n\n",
    "        - it is same as for loop but the difference is we can access the element as per\n",
    "        our requirement.\n",
    "        - it contains two different methods:\n",
    "                - iter()-->it is used to create iterator object\n",
    "                - next()-->it returns one element at a time,iterate through all the items of iterator"
   ]
  },
  {
   "cell_type": "code",
   "execution_count": 67,
   "id": "468ef88f",
   "metadata": {},
   "outputs": [
    {
     "name": "stdout",
     "output_type": "stream",
     "text": [
      "1 2 3 4 5 6 7 8 9 10 "
     ]
    }
   ],
   "source": [
    "for i in range(1,11):\n",
    "    print(i,end=\" \")"
   ]
  },
  {
   "cell_type": "code",
   "execution_count": 68,
   "id": "3edef85b",
   "metadata": {},
   "outputs": [
    {
     "name": "stdout",
     "output_type": "stream",
     "text": [
      "10\n",
      "20\n",
      "30\n",
      "40\n",
      "50\n",
      "60\n"
     ]
    }
   ],
   "source": [
    "li1=[10,20,30,40,50,60]\n",
    "for i in li1:\n",
    "    print(i)"
   ]
  },
  {
   "cell_type": "code",
   "execution_count": 72,
   "id": "fc64552f",
   "metadata": {},
   "outputs": [
    {
     "name": "stdout",
     "output_type": "stream",
     "text": [
      "<list_iterator object at 0x0000017651BBCA60>\n",
      "10\n",
      "20\n",
      "30\n",
      "40\n",
      "50\n",
      "60\n"
     ]
    }
   ],
   "source": [
    "i=iter(li1)\n",
    "print(i)\n",
    "print(next(i))\n",
    "print(next(i))\n",
    "print(next(i))\n",
    "print(next(i))\n",
    "print(next(i))\n",
    "print(next(i))"
   ]
  },
  {
   "cell_type": "markdown",
   "id": "48f2514e",
   "metadata": {},
   "source": [
    "###### Generators:\n",
    "        - it returns an obbject which we can iterate over\n",
    "        - in generator using \"yield\" keyword we can get the all elements\n",
    "        - in any function which contains at least one yield keyword is considered as a generator\n",
    "        - generators are always used in combination with an iterator"
   ]
  },
  {
   "cell_type": "code",
   "execution_count": 77,
   "id": "ba7561b2",
   "metadata": {},
   "outputs": [
    {
     "name": "stdout",
     "output_type": "stream",
     "text": [
      "<generator object sample at 0x0000017651BBFC10>\n"
     ]
    },
    {
     "data": {
      "text/plain": [
       "(1, 2, 3, 4, 5)"
      ]
     },
     "execution_count": 77,
     "metadata": {},
     "output_type": "execute_result"
    }
   ],
   "source": [
    "def sample():\n",
    "    i=1\n",
    "    while (i<=5):\n",
    "        yield i\n",
    "        i=i+1\n",
    "print(sample())\n",
    "tuple(sample())"
   ]
  },
  {
   "cell_type": "code",
   "execution_count": null,
   "id": "619c0595",
   "metadata": {},
   "outputs": [],
   "source": []
  }
 ],
 "metadata": {
  "kernelspec": {
   "display_name": "Python 3 (ipykernel)",
   "language": "python",
   "name": "python3"
  },
  "language_info": {
   "codemirror_mode": {
    "name": "ipython",
    "version": 3
   },
   "file_extension": ".py",
   "mimetype": "text/x-python",
   "name": "python",
   "nbconvert_exporter": "python",
   "pygments_lexer": "ipython3",
   "version": "3.9.13"
  }
 },
 "nbformat": 4,
 "nbformat_minor": 5
}
