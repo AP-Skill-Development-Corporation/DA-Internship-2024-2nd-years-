{
 "cells": [
  {
   "cell_type": "code",
   "execution_count": 1,
   "id": "2c2a3c52",
   "metadata": {},
   "outputs": [],
   "source": [
    "# input()  -> used to take input from the user\n",
    "# print() -> to print the values/output"
   ]
  },
  {
   "cell_type": "code",
   "execution_count": 2,
   "id": "e93367be",
   "metadata": {},
   "outputs": [
    {
     "name": "stdout",
     "output_type": "stream",
     "text": [
      "enter a number :45\n",
      "45 <class 'str'>\n"
     ]
    }
   ],
   "source": [
    "a=input(\"enter a number :\")\n",
    "print(a,type(a))"
   ]
  },
  {
   "cell_type": "code",
   "execution_count": 5,
   "id": "30d65697",
   "metadata": {},
   "outputs": [
    {
     "name": "stdout",
     "output_type": "stream",
     "text": [
      "enter a value: 34\n",
      "enter b value: 45\n",
      "addition of given two numbers is:  79\n"
     ]
    }
   ],
   "source": [
    "# write a program to print addition of two numbers\n",
    "\n",
    "a=int(input(\"enter a value: \"))\n",
    "# print(a,type(a))\n",
    "b=int(input(\"enter b value: \"))\n",
    "res=a+b\n",
    "print(\"addition of given two numbers is: \",res)"
   ]
  },
  {
   "cell_type": "code",
   "execution_count": null,
   "id": "3d236218",
   "metadata": {},
   "outputs": [],
   "source": [
    "# write a program to print square of a given number\n",
    "# write a program to print cube of a given number\n",
    "# write a program to print the result of multiplication of three numbers\n"
   ]
  },
  {
   "cell_type": "code",
   "execution_count": 6,
   "id": "e4ea2ffb",
   "metadata": {},
   "outputs": [
    {
     "name": "stdout",
     "output_type": "stream",
     "text": [
      "enter a number: 5\n",
      "square of a given number is :  25\n"
     ]
    }
   ],
   "source": [
    "# write a program to print square of a given number\n",
    "\n",
    "n=int(input(\"enter a number: \"))\n",
    "sq=n*n\n",
    "print(\"square of a given number is : \",sq)"
   ]
  },
  {
   "cell_type": "code",
   "execution_count": 7,
   "id": "caf39b94",
   "metadata": {},
   "outputs": [
    {
     "name": "stdout",
     "output_type": "stream",
     "text": [
      "enter a number: 5\n",
      "cube of a given number is:  125\n"
     ]
    }
   ],
   "source": [
    "# write a program to print cube of a given number\n",
    "\n",
    "n=int(input(\"enter a number: \"))\n",
    "res=n*n*n # n**3\n",
    "print(\"cube of a given number is: \", res)"
   ]
  },
  {
   "cell_type": "code",
   "execution_count": 8,
   "id": "4c5a2e23",
   "metadata": {},
   "outputs": [
    {
     "name": "stdout",
     "output_type": "stream",
     "text": [
      "enter a value: 10\n",
      "enter b value: 20\n",
      "enter c value: 30\n",
      "result is :  6000\n"
     ]
    }
   ],
   "source": [
    "# write a program to print the result of multiplication of three numbers\n",
    "\n",
    "a=int(input(\"enter a value: \"))\n",
    "b=int(input(\"enter b value: \"))\n",
    "c=int(input(\"enter c value: \"))\n",
    "res=a*b*c\n",
    "print(\"result is : \",res)"
   ]
  },
  {
   "cell_type": "markdown",
   "id": "5406465c",
   "metadata": {},
   "source": [
    "#### logical operators -> and,or,not\n",
    "* and -> returns true if both statements are true\n",
    "* or -> returns true if one of the statement is true\n",
    "* not -> Reverse the result, return false if the result is true\n"
   ]
  },
  {
   "cell_type": "code",
   "execution_count": 9,
   "id": "b577efba",
   "metadata": {},
   "outputs": [
    {
     "data": {
      "text/plain": [
       "False"
      ]
     },
     "execution_count": 9,
     "metadata": {},
     "output_type": "execute_result"
    }
   ],
   "source": [
    "a=7\n",
    "a>5 and a<6  # T and F"
   ]
  },
  {
   "cell_type": "code",
   "execution_count": 10,
   "id": "c7fa8224",
   "metadata": {},
   "outputs": [
    {
     "data": {
      "text/plain": [
       "True"
      ]
     },
     "execution_count": 10,
     "metadata": {},
     "output_type": "execute_result"
    }
   ],
   "source": [
    "a=7\n",
    "a>5 and a<90 # T and T"
   ]
  },
  {
   "cell_type": "code",
   "execution_count": 11,
   "id": "ae07b1db",
   "metadata": {},
   "outputs": [
    {
     "data": {
      "text/plain": [
       "True"
      ]
     },
     "execution_count": 11,
     "metadata": {},
     "output_type": "execute_result"
    }
   ],
   "source": [
    "a<5 or a>3 # F and T"
   ]
  },
  {
   "cell_type": "code",
   "execution_count": 13,
   "id": "25504762",
   "metadata": {},
   "outputs": [
    {
     "data": {
      "text/plain": [
       "False"
      ]
     },
     "execution_count": 13,
     "metadata": {},
     "output_type": "execute_result"
    }
   ],
   "source": [
    "a>67 or a<5 # F Or F"
   ]
  },
  {
   "cell_type": "code",
   "execution_count": 15,
   "id": "7829dcb2",
   "metadata": {},
   "outputs": [
    {
     "data": {
      "text/plain": [
       "False"
      ]
     },
     "execution_count": 15,
     "metadata": {},
     "output_type": "execute_result"
    }
   ],
   "source": [
    "b=90\n",
    "not(b>87)"
   ]
  },
  {
   "cell_type": "code",
   "execution_count": 16,
   "id": "11235c0a",
   "metadata": {},
   "outputs": [
    {
     "data": {
      "text/plain": [
       "True"
      ]
     },
     "execution_count": 16,
     "metadata": {},
     "output_type": "execute_result"
    }
   ],
   "source": [
    "not(b<8)"
   ]
  },
  {
   "cell_type": "markdown",
   "id": "481262a4",
   "metadata": {},
   "source": [
    "### Identity operator -> is , is not\n",
    "* tests two operands share an identity"
   ]
  },
  {
   "cell_type": "code",
   "execution_count": 17,
   "id": "06865220",
   "metadata": {
    "collapsed": true
   },
   "outputs": [
    {
     "name": "stderr",
     "output_type": "stream",
     "text": [
      "<>:2: SyntaxWarning: \"is\" with a literal. Did you mean \"==\"?\n",
      "<>:2: SyntaxWarning: \"is\" with a literal. Did you mean \"==\"?\n",
      "C:\\Users\\meena\\AppData\\Local\\Temp\\ipykernel_14908\\1769463490.py:2: SyntaxWarning: \"is\" with a literal. Did you mean \"==\"?\n",
      "  x is 10\n"
     ]
    },
    {
     "data": {
      "text/plain": [
       "True"
      ]
     },
     "execution_count": 17,
     "metadata": {},
     "output_type": "execute_result"
    }
   ],
   "source": [
    "x=10\n",
    "x is 10"
   ]
  },
  {
   "cell_type": "code",
   "execution_count": 18,
   "id": "552c9d36",
   "metadata": {
    "collapsed": true
   },
   "outputs": [
    {
     "name": "stderr",
     "output_type": "stream",
     "text": [
      "<>:1: SyntaxWarning: \"is not\" with a literal. Did you mean \"!=\"?\n",
      "<>:1: SyntaxWarning: \"is not\" with a literal. Did you mean \"!=\"?\n",
      "C:\\Users\\meena\\AppData\\Local\\Temp\\ipykernel_14908\\1660080432.py:1: SyntaxWarning: \"is not\" with a literal. Did you mean \"!=\"?\n",
      "  x is not 10\n"
     ]
    },
    {
     "data": {
      "text/plain": [
       "False"
      ]
     },
     "execution_count": 18,
     "metadata": {},
     "output_type": "execute_result"
    }
   ],
   "source": [
    "x is not 10"
   ]
  },
  {
   "cell_type": "code",
   "execution_count": 19,
   "id": "0361f726",
   "metadata": {},
   "outputs": [
    {
     "data": {
      "text/plain": [
       "True"
      ]
     },
     "execution_count": 19,
     "metadata": {},
     "output_type": "execute_result"
    }
   ],
   "source": [
    "a=90\n",
    "b=90\n",
    "a is b"
   ]
  },
  {
   "cell_type": "markdown",
   "id": "f445b023",
   "metadata": {},
   "source": [
    "###  Membership operator -> in , not in\n",
    "\n",
    "* Tests whether a value is in the given sequence or not"
   ]
  },
  {
   "cell_type": "code",
   "execution_count": 21,
   "id": "ced17971",
   "metadata": {},
   "outputs": [
    {
     "name": "stdout",
     "output_type": "stream",
     "text": [
      "True\n"
     ]
    }
   ],
   "source": [
    "name=\"sairam\"\n",
    "print('a' in name)"
   ]
  },
  {
   "cell_type": "code",
   "execution_count": 22,
   "id": "17c2de99",
   "metadata": {},
   "outputs": [
    {
     "name": "stdout",
     "output_type": "stream",
     "text": [
      "False\n"
     ]
    }
   ],
   "source": [
    "print('y' in name)"
   ]
  },
  {
   "cell_type": "markdown",
   "id": "867bec87",
   "metadata": {},
   "source": [
    "### Bitwise operators\n",
    "\n",
    "* & Bitwise AND ->  it returns   1 if both operand bit are 1 else 0\n",
    "* | Bitwise OR -> it returns 1 if either of the bits is 1 else 0\n",
    "\n"
   ]
  },
  {
   "cell_type": "code",
   "execution_count": 24,
   "id": "e693d5e7",
   "metadata": {},
   "outputs": [
    {
     "data": {
      "text/plain": [
       "2"
      ]
     },
     "execution_count": 24,
     "metadata": {},
     "output_type": "execute_result"
    }
   ],
   "source": [
    "a=2   # 2 -> 0010\n",
    "b=3   # 3 -> 0011  \n",
    "\n",
    "a&b  # 0010 -> 2\n",
    "  "
   ]
  },
  {
   "cell_type": "code",
   "execution_count": 25,
   "id": "de3f9f20",
   "metadata": {},
   "outputs": [
    {
     "data": {
      "text/plain": [
       "5"
      ]
     },
     "execution_count": 25,
     "metadata": {},
     "output_type": "execute_result"
    }
   ],
   "source": [
    "c=4   # 4 -> 0100\n",
    "d=5   # 5 -> 0101\n",
    "\n",
    "c|d  #       0101  ->5"
   ]
  },
  {
   "cell_type": "markdown",
   "id": "91b11749",
   "metadata": {},
   "source": [
    "* ~ Bitwise not  inverts individual bits"
   ]
  },
  {
   "cell_type": "code",
   "execution_count": 26,
   "id": "d99e2dd7",
   "metadata": {},
   "outputs": [
    {
     "data": {
      "text/plain": [
       "-6"
      ]
     },
     "execution_count": 26,
     "metadata": {},
     "output_type": "execute_result"
    }
   ],
   "source": [
    "# ~ (tild) -(n+1)\n",
    "c=5\n",
    "~c"
   ]
  },
  {
   "cell_type": "code",
   "execution_count": null,
   "id": "bce6f353",
   "metadata": {},
   "outputs": [],
   "source": []
  }
 ],
 "metadata": {
  "kernelspec": {
   "display_name": "Python 3 (ipykernel)",
   "language": "python",
   "name": "python3"
  },
  "language_info": {
   "codemirror_mode": {
    "name": "ipython",
    "version": 3
   },
   "file_extension": ".py",
   "mimetype": "text/x-python",
   "name": "python",
   "nbconvert_exporter": "python",
   "pygments_lexer": "ipython3",
   "version": "3.9.13"
  }
 },
 "nbformat": 4,
 "nbformat_minor": 5
}
