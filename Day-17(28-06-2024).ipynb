{
 "cells": [
  {
   "cell_type": "markdown",
   "id": "1d265c11",
   "metadata": {},
   "source": [
    "#### Day Objectives:\n",
    "        - Regular Expressions in python:\n",
    "            - it is used to verify whether the given data is valid or not\n",
    "                          ex: search engine(google)\n",
    "        - in regular expression we are using new module \"re\"\n",
    "                        import re\n",
    "                        \n",
    "        - regular expression methods:\n",
    "                - search()\n",
    "                - match()\n",
    "                - findall()\n",
    "##### methods:\n",
    "        - search():\n",
    "                - it is  used to verify the string upto end\n",
    "                - syntax:\n",
    "                        re.search(str_pattern,str_data)\n",
    "        - match():\n",
    "                - it is used to check character to character verification\n",
    "                - syntax:\n",
    "                        re.match(str_pattern,str_data)\n",
    "         - findall():\n",
    "                 - syntax:\n",
    "                         re.findall(str_pattern,str_data)"
   ]
  },
  {
   "cell_type": "code",
   "execution_count": 1,
   "id": "db103995",
   "metadata": {},
   "outputs": [],
   "source": [
    "import re"
   ]
  },
  {
   "cell_type": "code",
   "execution_count": 2,
   "id": "be954407",
   "metadata": {},
   "outputs": [
    {
     "name": "stdout",
     "output_type": "stream",
     "text": [
      "python programming\n"
     ]
    }
   ],
   "source": [
    "#### search()\n",
    "s=\"python programming\"\n",
    "print(s)"
   ]
  },
  {
   "cell_type": "code",
   "execution_count": 3,
   "id": "b52fc4ef",
   "metadata": {},
   "outputs": [
    {
     "name": "stdout",
     "output_type": "stream",
     "text": [
      "<re.Match object; span=(4, 5), match='o'>\n"
     ]
    }
   ],
   "source": [
    "print(re.search('o',s))"
   ]
  },
  {
   "cell_type": "code",
   "execution_count": 4,
   "id": "30db9512",
   "metadata": {},
   "outputs": [
    {
     "name": "stdout",
     "output_type": "stream",
     "text": [
      "None\n"
     ]
    }
   ],
   "source": [
    "print(re.search('x',s))"
   ]
  },
  {
   "cell_type": "code",
   "execution_count": 5,
   "id": "22c2393f",
   "metadata": {},
   "outputs": [
    {
     "name": "stdout",
     "output_type": "stream",
     "text": [
      "<re.Match object; span=(13, 14), match='m'>\n"
     ]
    }
   ],
   "source": [
    "print(re.search('m',s))"
   ]
  },
  {
   "cell_type": "code",
   "execution_count": 7,
   "id": "7d0a96db",
   "metadata": {},
   "outputs": [
    {
     "name": "stdout",
     "output_type": "stream",
     "text": [
      "hanuman\n",
      "balu\n",
      "usha\n"
     ]
    }
   ],
   "source": [
    "names=['sairam','laxmi','hanuman','balu','usha']\n",
    "for i in names:\n",
    "    if re.search('u',i):\n",
    "        print(i)"
   ]
  },
  {
   "cell_type": "code",
   "execution_count": 8,
   "id": "09feef01",
   "metadata": {},
   "outputs": [
    {
     "name": "stdout",
     "output_type": "stream",
     "text": [
      "python programming\n"
     ]
    }
   ],
   "source": [
    "#### match()\n",
    "print(s)"
   ]
  },
  {
   "cell_type": "code",
   "execution_count": 9,
   "id": "baed7d36",
   "metadata": {},
   "outputs": [
    {
     "name": "stdout",
     "output_type": "stream",
     "text": [
      "<re.Match object; span=(0, 1), match='p'>\n"
     ]
    }
   ],
   "source": [
    "print(re.match('p',s))"
   ]
  },
  {
   "cell_type": "code",
   "execution_count": 10,
   "id": "19eee32d",
   "metadata": {},
   "outputs": [
    {
     "name": "stdout",
     "output_type": "stream",
     "text": [
      "<re.Match object; span=(0, 2), match='py'>\n"
     ]
    }
   ],
   "source": [
    "print(re.match('py',s))"
   ]
  },
  {
   "cell_type": "code",
   "execution_count": 11,
   "id": "ea2ff267",
   "metadata": {},
   "outputs": [
    {
     "name": "stdout",
     "output_type": "stream",
     "text": [
      "None\n"
     ]
    }
   ],
   "source": [
    "print(re.match('pn',s))"
   ]
  },
  {
   "cell_type": "code",
   "execution_count": 12,
   "id": "a119bde9",
   "metadata": {},
   "outputs": [
    {
     "name": "stdout",
     "output_type": "stream",
     "text": [
      "python programming\n"
     ]
    }
   ],
   "source": [
    "#### findall():\n",
    "print(s)"
   ]
  },
  {
   "cell_type": "code",
   "execution_count": 13,
   "id": "1600a6fb",
   "metadata": {},
   "outputs": [
    {
     "name": "stdout",
     "output_type": "stream",
     "text": [
      "['p', 'p']\n"
     ]
    }
   ],
   "source": [
    "print(re.findall('p',s))"
   ]
  },
  {
   "cell_type": "code",
   "execution_count": 14,
   "id": "cf57b793",
   "metadata": {},
   "outputs": [
    {
     "name": "stdout",
     "output_type": "stream",
     "text": [
      "['o', 'o']\n"
     ]
    }
   ],
   "source": [
    "print(re.findall('o',s))"
   ]
  },
  {
   "cell_type": "code",
   "execution_count": 15,
   "id": "3b2e6c0c",
   "metadata": {
    "scrolled": true
   },
   "outputs": [
    {
     "name": "stdout",
     "output_type": "stream",
     "text": [
      "['o', 'o', 'o']\n"
     ]
    }
   ],
   "source": [
    "print(re.findall('o','python workshop'))"
   ]
  },
  {
   "cell_type": "code",
   "execution_count": 17,
   "id": "d0882d0e",
   "metadata": {},
   "outputs": [
    {
     "name": "stdout",
     "output_type": "stream",
     "text": [
      "python12389009\n",
      "['1', '2', '3', '8', '9', '0', '0', '9']\n"
     ]
    }
   ],
   "source": [
    "n=\"python12389009\"\n",
    "print(n)\n",
    "print(re.findall('\\d',n))"
   ]
  },
  {
   "cell_type": "markdown",
   "id": "7381a0b4",
   "metadata": {},
   "source": [
    "##### symbols in regular expression:\n",
    "        - \\d--->digits\n",
    "        -  ^--->starts with\n",
    "        -  $---->ends with\n",
    "        -  .--->here every . is represents one character\n",
    "        -  {min len,max len}--->min,max length of the given pattern\n",
    "        -  [start- end]--->range of data\n",
    "        -  ^[start- end]-->starts with only that range \n",
    "        -   [^ start- end]---> neither or nor"
   ]
  },
  {
   "cell_type": "code",
   "execution_count": 18,
   "id": "20fa29a1",
   "metadata": {},
   "outputs": [
    {
     "name": "stdout",
     "output_type": "stream",
     "text": [
      "python programming\n"
     ]
    }
   ],
   "source": [
    "### startswith('^')\n",
    "print(s)"
   ]
  },
  {
   "cell_type": "code",
   "execution_count": 19,
   "id": "3a98dde2",
   "metadata": {},
   "outputs": [
    {
     "name": "stdout",
     "output_type": "stream",
     "text": [
      "<re.Match object; span=(0, 1), match='p'>\n"
     ]
    }
   ],
   "source": [
    "print(re.search('^p',s))"
   ]
  },
  {
   "cell_type": "code",
   "execution_count": 20,
   "id": "ea4e22f5",
   "metadata": {},
   "outputs": [
    {
     "name": "stdout",
     "output_type": "stream",
     "text": [
      "None\n"
     ]
    }
   ],
   "source": [
    "print(re.search('^n',s))"
   ]
  },
  {
   "cell_type": "code",
   "execution_count": 21,
   "id": "d25ffb90",
   "metadata": {},
   "outputs": [
    {
     "name": "stdout",
     "output_type": "stream",
     "text": [
      "<re.Match object; span=(17, 18), match='g'>\n"
     ]
    }
   ],
   "source": [
    "#### endswith('$')\n",
    "print(re.search('g$',s))"
   ]
  },
  {
   "cell_type": "code",
   "execution_count": 22,
   "id": "01749ecf",
   "metadata": {},
   "outputs": [
    {
     "name": "stdout",
     "output_type": "stream",
     "text": [
      "None\n"
     ]
    }
   ],
   "source": [
    "print(re.search('p$',s))"
   ]
  },
  {
   "cell_type": "code",
   "execution_count": 23,
   "id": "85cabe3f",
   "metadata": {},
   "outputs": [
    {
     "name": "stdout",
     "output_type": "stream",
     "text": [
      "<re.Match object; span=(0, 1), match='p'>\n"
     ]
    }
   ],
   "source": [
    "##### .---(single charater)\n",
    "print(re.search('.',s))"
   ]
  },
  {
   "cell_type": "code",
   "execution_count": 25,
   "id": "635668cd",
   "metadata": {},
   "outputs": [
    {
     "name": "stdout",
     "output_type": "stream",
     "text": [
      "<re.Match object; span=(0, 3), match='pyt'>\n"
     ]
    }
   ],
   "source": [
    "print(re.search('...',s))"
   ]
  },
  {
   "cell_type": "code",
   "execution_count": 26,
   "id": "0bebb3b2",
   "metadata": {},
   "outputs": [
    {
     "name": "stdout",
     "output_type": "stream",
     "text": [
      "<re.Match object; span=(7, 13), match='progra'>\n"
     ]
    }
   ],
   "source": [
    "print(re.search('pro...',s))"
   ]
  },
  {
   "cell_type": "code",
   "execution_count": 27,
   "id": "c534807f",
   "metadata": {},
   "outputs": [
    {
     "name": "stdout",
     "output_type": "stream",
     "text": [
      "<re.Match object; span=(0, 2), match='py'>\n"
     ]
    }
   ],
   "source": [
    "#### {min,max}\n",
    "print(re.search('.{2}',s))"
   ]
  },
  {
   "cell_type": "code",
   "execution_count": 28,
   "id": "add1273e",
   "metadata": {},
   "outputs": [
    {
     "name": "stdout",
     "output_type": "stream",
     "text": [
      "<re.Match object; span=(0, 4), match='pyth'>\n"
     ]
    }
   ],
   "source": [
    "print(re.search('.{4}',s))"
   ]
  },
  {
   "cell_type": "code",
   "execution_count": 29,
   "id": "c9f2e2bc",
   "metadata": {},
   "outputs": [
    {
     "name": "stdout",
     "output_type": "stream",
     "text": [
      "<re.Match object; span=(0, 5), match='pytho'>\n"
     ]
    }
   ],
   "source": [
    "print(re.search('.{2,5}',s))"
   ]
  },
  {
   "cell_type": "code",
   "execution_count": 39,
   "id": "589be901",
   "metadata": {},
   "outputs": [
    {
     "name": "stdout",
     "output_type": "stream",
     "text": [
      "<re.Match object; span=(0, 8), match='srikanya'>\n"
     ]
    }
   ],
   "source": [
    "print(re.search('.{5,8}','srikanyaa'))"
   ]
  },
  {
   "cell_type": "code",
   "execution_count": 54,
   "id": "35c3380c",
   "metadata": {},
   "outputs": [
    {
     "name": "stdout",
     "output_type": "stream",
     "text": [
      "<re.Match object; span=(0, 1), match='s'>\n"
     ]
    }
   ],
   "source": [
    "#### [range]\n",
    "print(re.search('[n-z]','sairam'))"
   ]
  },
  {
   "cell_type": "code",
   "execution_count": 53,
   "id": "e87c0c19",
   "metadata": {},
   "outputs": [
    {
     "name": "stdout",
     "output_type": "stream",
     "text": [
      "['a', 'i', 'a', 'm']\n"
     ]
    }
   ],
   "source": [
    "print(re.findall('[a-m]','sairam'))"
   ]
  },
  {
   "cell_type": "code",
   "execution_count": 51,
   "id": "32f5d2fc",
   "metadata": {},
   "outputs": [
    {
     "name": "stdout",
     "output_type": "stream",
     "text": [
      "['i', 'a', 'a']\n"
     ]
    }
   ],
   "source": [
    "print(re.findall('[a-i]','srikanya'))"
   ]
  },
  {
   "cell_type": "code",
   "execution_count": 57,
   "id": "c09994a9",
   "metadata": {},
   "outputs": [
    {
     "name": "stdout",
     "output_type": "stream",
     "text": [
      "<re.Match object; span=(0, 1), match='a'>\n"
     ]
    }
   ],
   "source": [
    "#### ^[range]\n",
    "print(re.search('^[a-c]','ammu'))"
   ]
  },
  {
   "cell_type": "code",
   "execution_count": 58,
   "id": "ca8fd70e",
   "metadata": {},
   "outputs": [
    {
     "name": "stdout",
     "output_type": "stream",
     "text": [
      "<re.Match object; span=(0, 1), match='a'>\n"
     ]
    }
   ],
   "source": [
    "print(re.search('^[a-d]','aeiou'))"
   ]
  },
  {
   "cell_type": "code",
   "execution_count": 65,
   "id": "d2be60c0",
   "metadata": {},
   "outputs": [
    {
     "name": "stdout",
     "output_type": "stream",
     "text": [
      "<re.Match object; span=(0, 1), match='s'>\n"
     ]
    }
   ],
   "source": [
    "#####[^range]\n",
    "print(re.search('[^aeiou]','srikanya'))"
   ]
  },
  {
   "cell_type": "code",
   "execution_count": 69,
   "id": "c530e058",
   "metadata": {},
   "outputs": [
    {
     "name": "stdout",
     "output_type": "stream",
     "text": [
      "<re.Match object; span=(2, 3), match='s'>\n"
     ]
    }
   ],
   "source": [
    "print(re.search('[^aeiou]','oes'))"
   ]
  },
  {
   "cell_type": "code",
   "execution_count": 70,
   "id": "a48ae528",
   "metadata": {},
   "outputs": [
    {
     "name": "stdout",
     "output_type": "stream",
     "text": [
      "<re.Match object; span=(0, 1), match='e'>\n"
     ]
    }
   ],
   "source": [
    "print(re.search('[^qw]','ertyuwqui'))"
   ]
  },
  {
   "cell_type": "code",
   "execution_count": 71,
   "id": "8509840d",
   "metadata": {},
   "outputs": [
    {
     "name": "stdout",
     "output_type": "stream",
     "text": [
      "['e', 'r', 't', 'y', 'u', 'u', 'i']\n"
     ]
    }
   ],
   "source": [
    "print(re.findall('[^qw]','ertyuwqui'))"
   ]
  },
  {
   "cell_type": "markdown",
   "id": "4b556e1d",
   "metadata": {},
   "source": [
    "#### Task:\n",
    "#### pattern---mobile number\n",
    "        - starts with--->6,7,8,9\n",
    "        - length---->10 digits--->9\n",
    "        - digits--->0-9"
   ]
  },
  {
   "cell_type": "code",
   "execution_count": null,
   "id": "53ba7a2e",
   "metadata": {},
   "outputs": [],
   "source": []
  }
 ],
 "metadata": {
  "kernelspec": {
   "display_name": "Python 3 (ipykernel)",
   "language": "python",
   "name": "python3"
  },
  "language_info": {
   "codemirror_mode": {
    "name": "ipython",
    "version": 3
   },
   "file_extension": ".py",
   "mimetype": "text/x-python",
   "name": "python",
   "nbconvert_exporter": "python",
   "pygments_lexer": "ipython3",
   "version": "3.9.13"
  }
 },
 "nbformat": 4,
 "nbformat_minor": 5
}
