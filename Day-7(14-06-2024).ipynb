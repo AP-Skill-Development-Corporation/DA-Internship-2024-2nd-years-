{
 "cells": [
  {
   "cell_type": "markdown",
   "id": "ed543ef5",
   "metadata": {},
   "source": [
    "#### Day Objectives:\n",
    "        - Control Statements in python\n",
    "                - while loop\n",
    "        - loop control statements"
   ]
  },
  {
   "cell_type": "code",
   "execution_count": 2,
   "id": "6770dc8c",
   "metadata": {},
   "outputs": [
    {
     "name": "stdout",
     "output_type": "stream",
     "text": [
      "Enter a string:srikanya\n",
      "s r i k a n y a "
     ]
    }
   ],
   "source": [
    "# for loop\n",
    "s=input(\"Enter a string:\")\n",
    "for i in s:\n",
    "    print(i,end=\" \")"
   ]
  },
  {
   "cell_type": "markdown",
   "id": "816c6513",
   "metadata": {},
   "source": [
    "#### for with else:\n",
    "    - else part is executed after the loop is finished\n",
    "    - if there is a break in loop,else block is not executed"
   ]
  },
  {
   "cell_type": "code",
   "execution_count": 4,
   "id": "2d74e60e",
   "metadata": {},
   "outputs": [
    {
     "name": "stdout",
     "output_type": "stream",
     "text": [
      "0\n",
      "1\n",
      "2\n",
      "3\n",
      "4\n",
      "5\n",
      "Else block\n"
     ]
    }
   ],
   "source": [
    "# to print first 5 natural numbers\n",
    "for i in range(6):\n",
    "    print(i)\n",
    "else:\n",
    "    print(\"Else block\")"
   ]
  },
  {
   "cell_type": "markdown",
   "id": "bfd1921c",
   "metadata": {},
   "source": [
    "#### loop control statements:\n",
    "        - loop control statements change execution from its normal sequence\n",
    "        - python contains 3 different types of loop control statements\n",
    "                    - break \n",
    "                    - continue\n",
    "                    - pass"
   ]
  },
  {
   "cell_type": "markdown",
   "id": "13f293d7",
   "metadata": {},
   "source": [
    "##### break:\n",
    "    - The break statement terminates the loop containing it.\n",
    "    - control of the program flow to the statement immediately after the body of the loop\n",
    "    - if the break statement is inside a nested loop then it terminates innermost loop"
   ]
  },
  {
   "cell_type": "code",
   "execution_count": 7,
   "id": "a76e15a6",
   "metadata": {},
   "outputs": [
    {
     "name": "stdout",
     "output_type": "stream",
     "text": [
      "p\n",
      "y\n"
     ]
    }
   ],
   "source": [
    "s1=\"python\"\n",
    "for i in s1:\n",
    "    if i=='t':\n",
    "        break\n",
    "    print(i)"
   ]
  },
  {
   "cell_type": "code",
   "execution_count": 8,
   "id": "bb488b6c",
   "metadata": {},
   "outputs": [
    {
     "name": "stdout",
     "output_type": "stream",
     "text": [
      "0\n",
      "1\n",
      "2\n",
      "3\n"
     ]
    }
   ],
   "source": [
    "for i in range(6):\n",
    "    if i==4:\n",
    "        break\n",
    "    print(i)\n",
    "else:\n",
    "    print(\"this is else block\")"
   ]
  },
  {
   "cell_type": "markdown",
   "id": "df096025",
   "metadata": {},
   "source": [
    "##### continue:\n",
    "    - the continue statement is used to skip the rest of the code inside a loop for \n",
    "    current iteration only\n",
    "    - loop does not terminate but continue on with the next iteration\n",
    "    "
   ]
  },
  {
   "cell_type": "code",
   "execution_count": 10,
   "id": "79e32792",
   "metadata": {
    "collapsed": true
   },
   "outputs": [
    {
     "name": "stdout",
     "output_type": "stream",
     "text": [
      "a\n",
      "s\n",
      "s\n",
      "d\n",
      "c\n"
     ]
    }
   ],
   "source": [
    "s2=\"apssdc\"\n",
    "for ch in s2:\n",
    "    if ch=='p':\n",
    "        continue\n",
    "    print(ch)"
   ]
  },
  {
   "cell_type": "code",
   "execution_count": 11,
   "id": "f4e27c6d",
   "metadata": {
    "collapsed": true
   },
   "outputs": [
    {
     "name": "stdout",
     "output_type": "stream",
     "text": [
      "0\n",
      "1\n",
      "2\n",
      "3\n",
      "4\n",
      "6\n",
      "7\n",
      "8\n",
      "9\n"
     ]
    }
   ],
   "source": [
    "# 10 natural numbers:\n",
    "for i in range(10):\n",
    "    if i==5:\n",
    "        continue\n",
    "    print(i)"
   ]
  },
  {
   "cell_type": "markdown",
   "id": "3f3051a5",
   "metadata": {},
   "source": [
    "##### pass:\n",
    "        - pass statement is a null statement\n",
    "        - syntax:\n",
    "               for variable in sequence:\n",
    "                    if condition:\n",
    "                        pass"
   ]
  },
  {
   "cell_type": "code",
   "execution_count": 13,
   "id": "d69ed07e",
   "metadata": {
    "collapsed": true
   },
   "outputs": [
    {
     "name": "stdout",
     "output_type": "stream",
     "text": [
      "1\n",
      "3\n",
      "5\n",
      "7\n",
      "9\n",
      "11\n",
      "13\n",
      "15\n",
      "17\n",
      "19\n"
     ]
    }
   ],
   "source": [
    "for i in range(21):\n",
    "    if i%2==0:\n",
    "        pass\n",
    "    else:\n",
    "        print(i)"
   ]
  },
  {
   "cell_type": "code",
   "execution_count": 16,
   "id": "cd10adaf",
   "metadata": {},
   "outputs": [],
   "source": [
    "name=\"siri\"\n",
    "for i in name:\n",
    "    pass\n"
   ]
  },
  {
   "cell_type": "markdown",
   "id": "ddca0376",
   "metadata": {},
   "source": [
    "##### while loop:\n",
    "     - it executes block or set instructions until the condition is false\n",
    "     - we can use this loop when we dont know the no of iterations inadvance\n",
    "     - syntax:\n",
    "            initialization\n",
    "            while condition:\n",
    "                statement\n",
    "                inc/dec"
   ]
  },
  {
   "cell_type": "code",
   "execution_count": 18,
   "id": "e6a9d4d3",
   "metadata": {},
   "outputs": [
    {
     "name": "stdout",
     "output_type": "stream",
     "text": [
      "0 1 2 3 4 5 6 7 8 9 10 "
     ]
    }
   ],
   "source": [
    "# write a program to print first 10 natural numbers by using while loop\n",
    "i=0\n",
    "while i<=10:\n",
    "    print(i,end=\" \")\n",
    "    i+=1 # i=i+1"
   ]
  },
  {
   "cell_type": "code",
   "execution_count": 20,
   "id": "1174eca3",
   "metadata": {},
   "outputs": [
    {
     "name": "stdout",
     "output_type": "stream",
     "text": [
      "10 9 8 7 6 5 4 3 2 1 0 "
     ]
    }
   ],
   "source": [
    "# to print 10 natural numbers in reverse order\n",
    "i=10\n",
    "while i>=0:\n",
    "    print(i,end=\" \")\n",
    "    i=i-1"
   ]
  },
  {
   "cell_type": "code",
   "execution_count": 22,
   "id": "48dae782",
   "metadata": {},
   "outputs": [
    {
     "name": "stdout",
     "output_type": "stream",
     "text": [
      "Enter a number:5\n",
      "Sum is: 15\n"
     ]
    }
   ],
   "source": [
    "# write a program to find sum of n natural numbers\n",
    "n=int(input(\"Enter a number:\"))\n",
    "i=1\n",
    "s=0\n",
    "while i<=n:\n",
    "    s=s+i\n",
    "    i=i+1\n",
    "print(\"Sum is:\",s)\n",
    "    "
   ]
  },
  {
   "cell_type": "markdown",
   "id": "8c06875e",
   "metadata": {},
   "source": [
    "#### while loop with else:\n",
    "    - we can also use while with optional else block\n",
    "    - the else part is executed if the condition in the while loop evaluates to false\n",
    "    - if the while loop is terminated with a break statement,in such cases else part is ignored\n",
    "    - while loop else part is runs only if no break occues and the condition is false"
   ]
  },
  {
   "cell_type": "code",
   "execution_count": 23,
   "id": "6f4742b2",
   "metadata": {},
   "outputs": [
    {
     "name": "stdout",
     "output_type": "stream",
     "text": [
      "im inside the while loop\n",
      "im inside the while loop\n",
      "im inside the while loop\n",
      "im in inside else block\n"
     ]
    }
   ],
   "source": [
    "counter=0\n",
    "while counter<3:\n",
    "    print(\"im inside the while loop\")\n",
    "    counter=counter+1\n",
    "else:\n",
    "    print(\"im in inside else block\")"
   ]
  },
  {
   "cell_type": "code",
   "execution_count": 24,
   "id": "699010e9",
   "metadata": {},
   "outputs": [
    {
     "name": "stdout",
     "output_type": "stream",
     "text": [
      "1\n",
      "2\n"
     ]
    }
   ],
   "source": [
    "i=1\n",
    "while i<=5:\n",
    "    print(i)\n",
    "    i=i+1\n",
    "    if i==3:\n",
    "        break\n",
    "else:\n",
    "    print(\"this is else part\")"
   ]
  },
  {
   "cell_type": "code",
   "execution_count": 27,
   "id": "14cbc4a1",
   "metadata": {},
   "outputs": [
    {
     "name": "stdout",
     "output_type": "stream",
     "text": [
      " 1\n",
      " 2\n",
      " 4\n",
      " 5\n"
     ]
    }
   ],
   "source": [
    "i=1\n",
    "while i<=5:\n",
    "    if i==3:\n",
    "        i+=1\n",
    "        continue\n",
    "    print(\"\",i)\n",
    "    i+=1"
   ]
  },
  {
   "cell_type": "markdown",
   "id": "aafb81e5",
   "metadata": {},
   "source": [
    "##### nested while:\n",
    "        - syntax:\n",
    "                while expression:\n",
    "                    while expression:\n",
    "                        # statements"
   ]
  },
  {
   "cell_type": "code",
   "execution_count": null,
   "id": "a262b47b",
   "metadata": {},
   "outputs": [],
   "source": [
    "####  1,4\n",
    "      2,5\n",
    "      3,6"
   ]
  },
  {
   "cell_type": "code",
   "execution_count": 28,
   "id": "cb9d146e",
   "metadata": {},
   "outputs": [
    {
     "name": "stdout",
     "output_type": "stream",
     "text": [
      "1 , 4\n",
      "2 , 5\n",
      "3 , 6\n"
     ]
    }
   ],
   "source": [
    "i=1\n",
    "j=4\n",
    "while i<4:\n",
    "    while j<7:\n",
    "        print(i,\",\",j)\n",
    "        i=i+1\n",
    "        j=j+1"
   ]
  },
  {
   "cell_type": "code",
   "execution_count": null,
   "id": "6c85bf7f",
   "metadata": {},
   "outputs": [],
   "source": []
  }
 ],
 "metadata": {
  "kernelspec": {
   "display_name": "Python 3 (ipykernel)",
   "language": "python",
   "name": "python3"
  },
  "language_info": {
   "codemirror_mode": {
    "name": "ipython",
    "version": 3
   },
   "file_extension": ".py",
   "mimetype": "text/x-python",
   "name": "python",
   "nbconvert_exporter": "python",
   "pygments_lexer": "ipython3",
   "version": "3.9.13"
  }
 },
 "nbformat": 4,
 "nbformat_minor": 5
}
