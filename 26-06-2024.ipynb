{
 "cells": [
  {
   "cell_type": "markdown",
   "id": "10529058",
   "metadata": {},
   "source": [
    "### methods in file handling\n",
    "\n",
    "\n",
    "* tell() -> returns the current location of file pointer\n",
    "* seek() -> we can set the pointer at a specified location\n",
    "* seek(offset, from_what)\n",
    "    * offset: no of positions to move forward\n",
    "    * from_what: defines pointer reference\n",
    "    * 0: set reference pointer at the begining of the file\n",
    "    * 1: set reference pointer at the current file position\n",
    "    * 2: set reference pointer at the end of  file "
   ]
  },
  {
   "cell_type": "code",
   "execution_count": 1,
   "id": "4c99ebdb",
   "metadata": {},
   "outputs": [
    {
     "name": "stdout",
     "output_type": "stream",
     "text": [
      "0\n",
      "python programming\n",
      "\n",
      "19\n"
     ]
    }
   ],
   "source": [
    "f=open(\"myfile.txt\",'r')\n",
    "print(f.tell())\n",
    "print(f.readline())\n",
    "print(f.tell())"
   ]
  },
  {
   "cell_type": "code",
   "execution_count": 2,
   "id": "f20940dd",
   "metadata": {},
   "outputs": [
    {
     "data": {
      "text/plain": [
       "10"
      ]
     },
     "execution_count": 2,
     "metadata": {},
     "output_type": "execute_result"
    }
   ],
   "source": [
    "f=open(\"myfile.txt\",'r')\n",
    "f.seek(10)"
   ]
  },
  {
   "cell_type": "markdown",
   "id": "35ab90a7",
   "metadata": {},
   "source": [
    "### Functional programming\n",
    "\n",
    "* lambda : \n",
    "* Anonymous function\n",
    "* syntax: lambda arg1,arg2:expression"
   ]
  },
  {
   "cell_type": "code",
   "execution_count": 3,
   "id": "3c86f154",
   "metadata": {},
   "outputs": [
    {
     "data": {
      "text/plain": [
       "7"
      ]
     },
     "execution_count": 3,
     "metadata": {},
     "output_type": "execute_result"
    }
   ],
   "source": [
    "def add(a,b):\n",
    "    return a+b\n",
    "\n",
    "add(3,4)"
   ]
  },
  {
   "cell_type": "code",
   "execution_count": 4,
   "id": "0a2ca45f",
   "metadata": {},
   "outputs": [],
   "source": [
    "s=lambda x,y:x+y"
   ]
  },
  {
   "cell_type": "code",
   "execution_count": 5,
   "id": "963ecfb6",
   "metadata": {},
   "outputs": [
    {
     "data": {
      "text/plain": [
       "50"
      ]
     },
     "execution_count": 5,
     "metadata": {},
     "output_type": "execute_result"
    }
   ],
   "source": [
    "s(10,40)"
   ]
  },
  {
   "cell_type": "code",
   "execution_count": 6,
   "id": "0e402096",
   "metadata": {},
   "outputs": [
    {
     "data": {
      "text/plain": [
       "function"
      ]
     },
     "execution_count": 6,
     "metadata": {},
     "output_type": "execute_result"
    }
   ],
   "source": [
    "type(s)"
   ]
  },
  {
   "cell_type": "code",
   "execution_count": 7,
   "id": "695814fe",
   "metadata": {},
   "outputs": [
    {
     "data": {
      "text/plain": [
       "3136"
      ]
     },
     "execution_count": 7,
     "metadata": {},
     "output_type": "execute_result"
    }
   ],
   "source": [
    "# square  of a given number\n",
    "\n",
    "sq=lambda x:x**2\n",
    "sq(56)"
   ]
  },
  {
   "cell_type": "code",
   "execution_count": 8,
   "id": "61af8ecc",
   "metadata": {},
   "outputs": [
    {
     "data": {
      "text/plain": [
       "144"
      ]
     },
     "execution_count": 8,
     "metadata": {},
     "output_type": "execute_result"
    }
   ],
   "source": [
    "sq(12)"
   ]
  },
  {
   "cell_type": "code",
   "execution_count": 9,
   "id": "61864f61",
   "metadata": {},
   "outputs": [
    {
     "data": {
      "text/plain": [
       "125"
      ]
     },
     "execution_count": 9,
     "metadata": {},
     "output_type": "execute_result"
    }
   ],
   "source": [
    "# cube of a given number\n",
    "c=lambda x:x**3\n",
    "c(5)"
   ]
  },
  {
   "cell_type": "code",
   "execution_count": 10,
   "id": "ec9d3514",
   "metadata": {},
   "outputs": [
    {
     "data": {
      "text/plain": [
       "True"
      ]
     },
     "execution_count": 10,
     "metadata": {},
     "output_type": "execute_result"
    }
   ],
   "source": [
    "# write a function to check whether the number is in the given range or not\n",
    "\n",
    "\n",
    "def numcheck(n):\n",
    "    if n>10 and n<20:\n",
    "        return True\n",
    "    else:\n",
    "        return False\n",
    "    \n",
    "numcheck(12)        "
   ]
  },
  {
   "cell_type": "code",
   "execution_count": 11,
   "id": "4e6e0ba0",
   "metadata": {},
   "outputs": [
    {
     "data": {
      "text/plain": [
       "False"
      ]
     },
     "execution_count": 11,
     "metadata": {},
     "output_type": "execute_result"
    }
   ],
   "source": [
    "numcheck(25)"
   ]
  },
  {
   "cell_type": "code",
   "execution_count": 12,
   "id": "99082500",
   "metadata": {},
   "outputs": [
    {
     "data": {
      "text/plain": [
       "False"
      ]
     },
     "execution_count": 12,
     "metadata": {},
     "output_type": "execute_result"
    }
   ],
   "source": [
    "# if -else  in lambda function\n",
    "\n",
    "l=lambda n:True if (n>10 and n<20) else False\n",
    "l(90)"
   ]
  },
  {
   "cell_type": "markdown",
   "id": "88cb0e2f",
   "metadata": {},
   "source": [
    "### map() \n",
    "\n",
    "* map() function can take function, iterable as parameters and applies functionality to each item in the iterable\n",
    "\n",
    "* syntax: \n",
    "    * map(function, iterable1, iterable2..)"
   ]
  },
  {
   "cell_type": "code",
   "execution_count": 14,
   "id": "fd623156",
   "metadata": {},
   "outputs": [
    {
     "name": "stdout",
     "output_type": "stream",
     "text": [
      "<map object at 0x00000297ECA19850>\n"
     ]
    }
   ],
   "source": [
    "def sq(n):\n",
    "    return n*n\n",
    "\n",
    "x=map(sq,[1,2,3,4,5])   # function,iterable\n",
    "print(x)"
   ]
  },
  {
   "cell_type": "code",
   "execution_count": 15,
   "id": "bf5749cb",
   "metadata": {},
   "outputs": [
    {
     "data": {
      "text/plain": [
       "[1, 4, 9, 16, 25]"
      ]
     },
     "execution_count": 15,
     "metadata": {},
     "output_type": "execute_result"
    }
   ],
   "source": [
    "list(x)"
   ]
  },
  {
   "cell_type": "code",
   "execution_count": 19,
   "id": "e4de4e3e",
   "metadata": {},
   "outputs": [
    {
     "data": {
      "text/plain": [
       "[16, 49, 81, 121, 169]"
      ]
     },
     "execution_count": 19,
     "metadata": {},
     "output_type": "execute_result"
    }
   ],
   "source": [
    "y=map(sq,[4,7,9,11,13])   # function,iterable\n",
    "list(y)"
   ]
  },
  {
   "cell_type": "code",
   "execution_count": 20,
   "id": "895cd8cc",
   "metadata": {},
   "outputs": [
    {
     "data": {
      "text/plain": [
       "['LOKESH', 'KEERTHI', 'MANI', 'RAM']"
      ]
     },
     "execution_count": 20,
     "metadata": {},
     "output_type": "execute_result"
    }
   ],
   "source": [
    "s=[\"lokesh\",\"keerthi\",\"mani\",\"ram\"]\n",
    "\n",
    "ss=map(str.upper,s)\n",
    "list(ss)"
   ]
  },
  {
   "cell_type": "markdown",
   "id": "5f7aa4ca",
   "metadata": {},
   "source": [
    "### filter()\n",
    "\n",
    "* filter takes a function and a sequence as arguments and returns an iterable\n",
    "* filter() filters the given iterable with the help of a function that each element in the iterable to be true or not\n",
    "* syntax: filter(function,iterable)"
   ]
  },
  {
   "cell_type": "code",
   "execution_count": 27,
   "id": "eb7c4cc5",
   "metadata": {},
   "outputs": [
    {
     "data": {
      "text/plain": [
       "False"
      ]
     },
     "execution_count": 27,
     "metadata": {},
     "output_type": "execute_result"
    }
   ],
   "source": [
    "def is_even(x):\n",
    "    if x%2==0:\n",
    "        return True\n",
    "    else:\n",
    "        return False    \n",
    "is_even(9)"
   ]
  },
  {
   "cell_type": "code",
   "execution_count": 30,
   "id": "8b9d102b",
   "metadata": {},
   "outputs": [
    {
     "data": {
      "text/plain": [
       "[2, 4, 6, 8, 10]"
      ]
     },
     "execution_count": 30,
     "metadata": {},
     "output_type": "execute_result"
    }
   ],
   "source": [
    "list(filter(is_even,[1,2,3,4,5,6,7,8,9,10]))"
   ]
  },
  {
   "cell_type": "code",
   "execution_count": null,
   "id": "e657128c",
   "metadata": {},
   "outputs": [],
   "source": [
    "# filter vowels from given list of letters\n",
    "\n",
    "#i/p: ['p','i','n','a','s','e']\n",
    "#o/p: ['i','a','e']"
   ]
  }
 ],
 "metadata": {
  "kernelspec": {
   "display_name": "Python 3 (ipykernel)",
   "language": "python",
   "name": "python3"
  },
  "language_info": {
   "codemirror_mode": {
    "name": "ipython",
    "version": 3
   },
   "file_extension": ".py",
   "mimetype": "text/x-python",
   "name": "python",
   "nbconvert_exporter": "python",
   "pygments_lexer": "ipython3",
   "version": "3.9.13"
  }
 },
 "nbformat": 4,
 "nbformat_minor": 5
}
