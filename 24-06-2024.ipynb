{
 "cells": [
  {
   "cell_type": "markdown",
   "id": "c7bca647",
   "metadata": {},
   "source": [
    "###  Types of arguments in functions\n",
    "\n",
    "* Default arguments\n",
    "* Keyword arguments\n",
    "* arbitary arguments\n",
    "\n",
    "\n",
    "### Default arguments\n",
    "*  Function arguments can have default values in python\n",
    "*  we can assign default values to arguments by using assignment operator '='"
   ]
  },
  {
   "cell_type": "code",
   "execution_count": 2,
   "id": "072b911f",
   "metadata": {},
   "outputs": [
    {
     "name": "stdout",
     "output_type": "stream",
     "text": [
      "ram welcome to the world\n"
     ]
    }
   ],
   "source": [
    "def greet(name,msg=\"welcome to the world\"):\n",
    "    print(name,msg)    \n",
    "    \n",
    "greet(\"ram\")"
   ]
  },
  {
   "cell_type": "code",
   "execution_count": 3,
   "id": "28bdc549",
   "metadata": {},
   "outputs": [
    {
     "name": "stdout",
     "output_type": "stream",
     "text": [
      "hanuma is good\n"
     ]
    }
   ],
   "source": [
    "greet(\"hanuma\",\"is good\")"
   ]
  },
  {
   "cell_type": "code",
   "execution_count": 4,
   "id": "ebc09f67",
   "metadata": {},
   "outputs": [
    {
     "ename": "SyntaxError",
     "evalue": "non-default argument follows default argument (709647305.py, line 1)",
     "output_type": "error",
     "traceback": [
      "\u001b[1;36m  File \u001b[1;32m\"C:\\Users\\meena\\AppData\\Local\\Temp\\ipykernel_19688\\709647305.py\"\u001b[1;36m, line \u001b[1;32m1\u001b[0m\n\u001b[1;33m    def greet(name=\"lavanya\",msg):\u001b[0m\n\u001b[1;37m                                ^\u001b[0m\n\u001b[1;31mSyntaxError\u001b[0m\u001b[1;31m:\u001b[0m non-default argument follows default argument\n"
     ]
    }
   ],
   "source": [
    "def greet(name=\"lavanya\",msg):  # default values is not given to 1st parameter\n",
    "    print(name,msg) \n",
    "\n",
    "greet(\"welcome\")"
   ]
  },
  {
   "cell_type": "markdown",
   "id": "1c5697c2",
   "metadata": {},
   "source": [
    "### python keyword arguments\n",
    "\n",
    "* when we call function with some values, these values are assigned to arguments according to \n",
    "their position"
   ]
  },
  {
   "cell_type": "code",
   "execution_count": 5,
   "id": "c5d207ae",
   "metadata": {},
   "outputs": [
    {
     "name": "stdout",
     "output_type": "stream",
     "text": [
      "lokesh good evening\n"
     ]
    }
   ],
   "source": [
    "greet(name=\"lokesh\",msg=\"good evening\")"
   ]
  },
  {
   "cell_type": "code",
   "execution_count": 6,
   "id": "bc13bab5",
   "metadata": {},
   "outputs": [
    {
     "name": "stdout",
     "output_type": "stream",
     "text": [
      "lokesh good evening\n"
     ]
    }
   ],
   "source": [
    "greet(msg=\"good evening\",name=\"lokesh\")"
   ]
  },
  {
   "cell_type": "code",
   "execution_count": 7,
   "id": "b742b745",
   "metadata": {},
   "outputs": [
    {
     "name": "stdout",
     "output_type": "stream",
     "text": [
      "sai good\n"
     ]
    }
   ],
   "source": [
    "greet(\"sai\",msg=\"good\")   # positional , keyword argument"
   ]
  },
  {
   "cell_type": "code",
   "execution_count": 8,
   "id": "cb220ea4",
   "metadata": {},
   "outputs": [
    {
     "ename": "SyntaxError",
     "evalue": "positional argument follows keyword argument (1404700595.py, line 1)",
     "output_type": "error",
     "traceback": [
      "\u001b[1;36m  File \u001b[1;32m\"C:\\Users\\meena\\AppData\\Local\\Temp\\ipykernel_19688\\1404700595.py\"\u001b[1;36m, line \u001b[1;32m1\u001b[0m\n\u001b[1;33m    greet(name=\"sai\",msg)\u001b[0m\n\u001b[1;37m                        ^\u001b[0m\n\u001b[1;31mSyntaxError\u001b[0m\u001b[1;31m:\u001b[0m positional argument follows keyword argument\n"
     ]
    }
   ],
   "source": [
    "greet(name=\"sai\",msg) "
   ]
  },
  {
   "cell_type": "code",
   "execution_count": 10,
   "id": "c7d2ab63",
   "metadata": {},
   "outputs": [
    {
     "name": "stdout",
     "output_type": "stream",
     "text": [
      "hima bhanu swamy parvathi "
     ]
    }
   ],
   "source": [
    "### arbitary arguments\n",
    "\n",
    "def greet(*name):\n",
    "    for i in name:\n",
    "        print(i,end=\" \")\n",
    "\n",
    "greet(\"hima\",\"bhanu\",\"swamy\",\"parvathi\")"
   ]
  },
  {
   "cell_type": "markdown",
   "id": "05d02861",
   "metadata": {},
   "source": [
    "### Comprehension \n",
    "\n",
    "* To reduce the lines of code\n",
    "* syntax : [o/p-variable loop condition]"
   ]
  },
  {
   "cell_type": "code",
   "execution_count": 11,
   "id": "369f7a31",
   "metadata": {},
   "outputs": [
    {
     "data": {
      "text/plain": [
       "[1, 2, 3, 4, 5, 6, 7, 8, 9, 10]"
      ]
     },
     "execution_count": 11,
     "metadata": {},
     "output_type": "execute_result"
    }
   ],
   "source": [
    "# List comprehension\n",
    "# print 1 to 10 numbers\n",
    "\n",
    "[i for i in range(1,11)]"
   ]
  },
  {
   "cell_type": "code",
   "execution_count": 12,
   "id": "7fb1cc05",
   "metadata": {},
   "outputs": [
    {
     "name": "stdout",
     "output_type": "stream",
     "text": [
      "1 2 3 4 5 6 7 8 9 10 "
     ]
    }
   ],
   "source": [
    "for i in range(1,11):\n",
    "    print(i,end= \" \")"
   ]
  },
  {
   "cell_type": "code",
   "execution_count": null,
   "id": "1d5927ec",
   "metadata": {},
   "outputs": [],
   "source": [
    "# print even numbers in the range of 1 to 100 using comprehension"
   ]
  },
  {
   "cell_type": "code",
   "execution_count": 13,
   "id": "23c0f8f8",
   "metadata": {},
   "outputs": [
    {
     "name": "stdout",
     "output_type": "stream",
     "text": [
      "2 4 6 8 10 12 14 16 18 20 22 24 26 28 30 32 34 36 38 40 42 44 46 48 50 52 54 56 58 60 62 64 66 68 70 72 74 76 78 80 82 84 86 88 90 92 94 96 98 100 "
     ]
    }
   ],
   "source": [
    "for i in range(1,101):\n",
    "    if i%2==0:\n",
    "        print(i,end=\" \")"
   ]
  },
  {
   "cell_type": "code",
   "execution_count": 14,
   "id": "4ea3c53f",
   "metadata": {},
   "outputs": [
    {
     "name": "stdout",
     "output_type": "stream",
     "text": [
      "2 4 6 8 10 12 14 16 18 20 22 24 26 28 30 32 34 36 38 40 42 44 46 48 50 52 54 56 58 60 62 64 66 68 70 72 74 76 78 80 82 84 86 88 90 92 94 96 98 100 "
     ]
    }
   ],
   "source": [
    "for i in range(2,101,2):\n",
    "    print(i,end=\" \")"
   ]
  },
  {
   "cell_type": "code",
   "execution_count": 15,
   "id": "8b29f1ee",
   "metadata": {
    "collapsed": true
   },
   "outputs": [
    {
     "data": {
      "text/plain": [
       "[2,\n",
       " 4,\n",
       " 6,\n",
       " 8,\n",
       " 10,\n",
       " 12,\n",
       " 14,\n",
       " 16,\n",
       " 18,\n",
       " 20,\n",
       " 22,\n",
       " 24,\n",
       " 26,\n",
       " 28,\n",
       " 30,\n",
       " 32,\n",
       " 34,\n",
       " 36,\n",
       " 38,\n",
       " 40,\n",
       " 42,\n",
       " 44,\n",
       " 46,\n",
       " 48,\n",
       " 50,\n",
       " 52,\n",
       " 54,\n",
       " 56,\n",
       " 58,\n",
       " 60,\n",
       " 62,\n",
       " 64,\n",
       " 66,\n",
       " 68,\n",
       " 70,\n",
       " 72,\n",
       " 74,\n",
       " 76,\n",
       " 78,\n",
       " 80,\n",
       " 82,\n",
       " 84,\n",
       " 86,\n",
       " 88,\n",
       " 90,\n",
       " 92,\n",
       " 94,\n",
       " 96,\n",
       " 98,\n",
       " 100]"
      ]
     },
     "execution_count": 15,
     "metadata": {},
     "output_type": "execute_result"
    }
   ],
   "source": [
    "[i for i in range(1,101) if i%2==0]"
   ]
  },
  {
   "cell_type": "code",
   "execution_count": 16,
   "id": "1b80b814",
   "metadata": {
    "collapsed": true
   },
   "outputs": [
    {
     "data": {
      "text/plain": [
       "[1,\n",
       " 3,\n",
       " 5,\n",
       " 7,\n",
       " 9,\n",
       " 11,\n",
       " 13,\n",
       " 15,\n",
       " 17,\n",
       " 19,\n",
       " 21,\n",
       " 23,\n",
       " 25,\n",
       " 27,\n",
       " 29,\n",
       " 31,\n",
       " 33,\n",
       " 35,\n",
       " 37,\n",
       " 39,\n",
       " 41,\n",
       " 43,\n",
       " 45,\n",
       " 47,\n",
       " 49,\n",
       " 51,\n",
       " 53,\n",
       " 55,\n",
       " 57,\n",
       " 59,\n",
       " 61,\n",
       " 63,\n",
       " 65,\n",
       " 67,\n",
       " 69,\n",
       " 71,\n",
       " 73,\n",
       " 75,\n",
       " 77,\n",
       " 79,\n",
       " 81,\n",
       " 83,\n",
       " 85,\n",
       " 87,\n",
       " 89,\n",
       " 91,\n",
       " 93,\n",
       " 95,\n",
       " 97,\n",
       " 99]"
      ]
     },
     "execution_count": 16,
     "metadata": {},
     "output_type": "execute_result"
    }
   ],
   "source": [
    "#odd numbers in the range(1,100)\n",
    "[i for i in range(1,101) if i%2!=0]"
   ]
  },
  {
   "cell_type": "code",
   "execution_count": 17,
   "id": "d25a2f6f",
   "metadata": {},
   "outputs": [
    {
     "data": {
      "text/plain": [
       "[1, 4, 9, 16, 25, 36, 49, 64, 81, 100]"
      ]
     },
     "execution_count": 17,
     "metadata": {},
     "output_type": "execute_result"
    }
   ],
   "source": [
    "# squares of natural numbers from 1 to 10\n",
    "[i**2 for i in range(1,11)]"
   ]
  },
  {
   "cell_type": "code",
   "execution_count": 19,
   "id": "193dabb2",
   "metadata": {},
   "outputs": [
    {
     "data": {
      "text/plain": [
       "[1, 8, 27, 64, 125, 216, 343, 512, 729, 1000]"
      ]
     },
     "execution_count": 19,
     "metadata": {},
     "output_type": "execute_result"
    }
   ],
   "source": [
    "# cubes of natural numbers from 1 to 10\n",
    "[i**3 for i in range(1,11)]"
   ]
  },
  {
   "cell_type": "code",
   "execution_count": 20,
   "id": "6ecb444c",
   "metadata": {},
   "outputs": [
    {
     "name": "stdout",
     "output_type": "stream",
     "text": [
      "{1: 1, 2: 2, 3: 3, 4: 4, 5: 5, 6: 6, 7: 7, 8: 8, 9: 9, 10: 10}\n"
     ]
    }
   ],
   "source": [
    "## dictionary comprehension\n",
    "\n",
    "d={i:i for i in range(1,11)}  #o/p loop\n",
    "print(d)"
   ]
  },
  {
   "cell_type": "code",
   "execution_count": 21,
   "id": "5eceb890",
   "metadata": {},
   "outputs": [
    {
     "name": "stdout",
     "output_type": "stream",
     "text": [
      "{1: 1, 2: 4, 3: 9, 4: 16, 5: 25, 6: 36, 7: 49, 8: 64, 9: 81, 10: 100}\n"
     ]
    }
   ],
   "source": [
    "# 1:1 , 2:4, 3:9, 4:16......10:100\n",
    "\n",
    "d={i:i**2 for i in range(1,11)}\n",
    "print(d)"
   ]
  },
  {
   "cell_type": "code",
   "execution_count": 26,
   "id": "8a19429a",
   "metadata": {},
   "outputs": [
    {
     "name": "stdout",
     "output_type": "stream",
     "text": [
      "enter n value: 345\n"
     ]
    },
    {
     "data": {
      "text/plain": [
       "12"
      ]
     },
     "execution_count": 26,
     "metadata": {},
     "output_type": "execute_result"
    }
   ],
   "source": [
    "#  write a function to find sum of digits of a number\n",
    "\n",
    "# 123 -> 1+2+3 -> 6\n",
    "\n",
    "def digitsum(n):\n",
    "    sum=0\n",
    "    while(n!=0):\n",
    "        sum=sum+(n%10)  # 0+3\n",
    "        n=n//10\n",
    "    return sum\n",
    "\n",
    "n=int(input(\"enter n value: \"))\n",
    "digitsum(n)             \n",
    "    "
   ]
  },
  {
   "cell_type": "code",
   "execution_count": null,
   "id": "45ab755f",
   "metadata": {},
   "outputs": [],
   "source": []
  }
 ],
 "metadata": {
  "kernelspec": {
   "display_name": "Python 3 (ipykernel)",
   "language": "python",
   "name": "python3"
  },
  "language_info": {
   "codemirror_mode": {
    "name": "ipython",
    "version": 3
   },
   "file_extension": ".py",
   "mimetype": "text/x-python",
   "name": "python",
   "nbconvert_exporter": "python",
   "pygments_lexer": "ipython3",
   "version": "3.9.13"
  }
 },
 "nbformat": 4,
 "nbformat_minor": 5
}
