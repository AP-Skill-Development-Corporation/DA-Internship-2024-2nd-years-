{
 "cells": [
  {
   "cell_type": "markdown",
   "id": "cee502e6",
   "metadata": {},
   "source": [
    "#### Day Objectives:\n",
    "        - python Data Structures:\n",
    "                - list\n",
    "                - tuple\n",
    "                - dictionary\n",
    "                - set"
   ]
  },
  {
   "cell_type": "code",
   "execution_count": 2,
   "id": "6fa66024",
   "metadata": {},
   "outputs": [
    {
     "name": "stdout",
     "output_type": "stream",
     "text": [
      "['__add__', '__class__', '__class_getitem__', '__contains__', '__delattr__', '__delitem__', '__dir__', '__doc__', '__eq__', '__format__', '__ge__', '__getattribute__', '__getitem__', '__gt__', '__hash__', '__iadd__', '__imul__', '__init__', '__init_subclass__', '__iter__', '__le__', '__len__', '__lt__', '__mul__', '__ne__', '__new__', '__reduce__', '__reduce_ex__', '__repr__', '__reversed__', '__rmul__', '__setattr__', '__setitem__', '__sizeof__', '__str__', '__subclasshook__', 'append', 'clear', 'copy', 'count', 'extend', 'index', 'insert', 'pop', 'remove', 'reverse', 'sort']\n"
     ]
    }
   ],
   "source": [
    "print(dir(list))"
   ]
  },
  {
   "cell_type": "markdown",
   "id": "7a23baef",
   "metadata": {},
   "source": [
    "##### tuple:\n",
    "    - it is a collection of different data items in a single variable\n",
    "    - by using paranthesis we can write the tuple like this \"()\"\n",
    "    - it is immutable(we can not change elements in tuple)\n",
    "    - it is a collection which is ordered and un changable\n",
    "    - it allows the duplicate data\n",
    "    - syntax:\n",
    "        tuple_variable_name=(e1,e2,e3,e4...en)"
   ]
  },
  {
   "cell_type": "code",
   "execution_count": 3,
   "id": "dec0b377",
   "metadata": {},
   "outputs": [
    {
     "name": "stdout",
     "output_type": "stream",
     "text": [
      "['__add__', '__class__', '__class_getitem__', '__contains__', '__delattr__', '__dir__', '__doc__', '__eq__', '__format__', '__ge__', '__getattribute__', '__getitem__', '__getnewargs__', '__gt__', '__hash__', '__init__', '__init_subclass__', '__iter__', '__le__', '__len__', '__lt__', '__mul__', '__ne__', '__new__', '__reduce__', '__reduce_ex__', '__repr__', '__rmul__', '__setattr__', '__sizeof__', '__str__', '__subclasshook__', 'count', 'index']\n"
     ]
    }
   ],
   "source": [
    "print(dir(tuple))"
   ]
  },
  {
   "cell_type": "code",
   "execution_count": 4,
   "id": "f30e6429",
   "metadata": {},
   "outputs": [
    {
     "data": {
      "text/plain": [
       "(10, 20, 45, 'apssdc', 56.7, 78, 9.5)"
      ]
     },
     "execution_count": 4,
     "metadata": {},
     "output_type": "execute_result"
    }
   ],
   "source": [
    "# to store the multiple elements in single variable\n",
    "t=(10,20,45,'apssdc',56.7,78,9.5)\n",
    "t"
   ]
  },
  {
   "cell_type": "code",
   "execution_count": 5,
   "id": "05945692",
   "metadata": {},
   "outputs": [
    {
     "data": {
      "text/plain": [
       "tuple"
      ]
     },
     "execution_count": 5,
     "metadata": {},
     "output_type": "execute_result"
    }
   ],
   "source": [
    "type(t)"
   ]
  },
  {
   "cell_type": "code",
   "execution_count": 7,
   "id": "6a04058d",
   "metadata": {},
   "outputs": [
    {
     "name": "stdout",
     "output_type": "stream",
     "text": [
      "(56,)\n",
      "<class 'tuple'>\n"
     ]
    }
   ],
   "source": [
    "t1=(56,)\n",
    "print(t1)\n",
    "print(type(t1))"
   ]
  },
  {
   "cell_type": "code",
   "execution_count": 19,
   "id": "c4ffe093",
   "metadata": {},
   "outputs": [
    {
     "name": "stdout",
     "output_type": "stream",
     "text": [
      "(10, 20, 45, 'apssdc', 56.7, 78, 9.5)\n",
      "apssdc\n",
      "78\n",
      "78\n",
      "(10, 20, 45, 'apssdc', 56.7, 78, 9.5)\n",
      "(10, 20, 45, 'apssdc', 56.7, 78, 9.5)\n",
      "(9.5, 78, 56.7, 'apssdc', 45, 20, 10)\n",
      "(9.5, 78, 56.7, 'apssdc', 45, 20, 10)\n",
      "(10, 45, 56.7, 9.5)\n",
      "(9.5, 56.7, 45, 10)\n"
     ]
    }
   ],
   "source": [
    "#### how to access tuple elements:\n",
    "print(t)\n",
    "print(t[3])\n",
    "print(t[5])\n",
    "print(t[-2])\n",
    "\n",
    "#### slicing[start_index:end_index+1:step_value]\n",
    "print(t[:])\n",
    "print(t[0:7])\n",
    "print(t[-1:-8:-1])\n",
    "print(t[::-1])\n",
    "print(t[::2])\n",
    "print(t[::-2])\n"
   ]
  },
  {
   "cell_type": "markdown",
   "id": "b26bad6c",
   "metadata": {},
   "source": [
    "#### tuple methods:\n",
    "        - index--> it returns index position of the given element\n",
    "        - count---> it returns no of occurances of the given element"
   ]
  },
  {
   "cell_type": "code",
   "execution_count": 20,
   "id": "d3630ac2",
   "metadata": {
    "scrolled": true
   },
   "outputs": [
    {
     "name": "stdout",
     "output_type": "stream",
     "text": [
      "(10, 20, 30, 'python', 'java', 56.7, 7, 10, 20, 'python')\n",
      "<class 'tuple'>\n"
     ]
    }
   ],
   "source": [
    "# index:\n",
    "t2=(10,20,30,'python','java',56.7,7,10,20,'python')\n",
    "print(t2)\n",
    "print(type(t2))"
   ]
  },
  {
   "cell_type": "code",
   "execution_count": null,
   "id": "f7f2ec81",
   "metadata": {},
   "outputs": [],
   "source": [
    "### syntax:\n",
    "        tuple_variable.index(element)"
   ]
  },
  {
   "cell_type": "code",
   "execution_count": 23,
   "id": "51aa6556",
   "metadata": {},
   "outputs": [
    {
     "name": "stdout",
     "output_type": "stream",
     "text": [
      "4\n",
      "3\n",
      "0\n"
     ]
    }
   ],
   "source": [
    "print(t2.index('java'))\n",
    "print(t2.index('python'))\n",
    "print(t2.index(10))"
   ]
  },
  {
   "cell_type": "code",
   "execution_count": null,
   "id": "e39f549f",
   "metadata": {},
   "outputs": [],
   "source": [
    "# syntax:\n",
    "    tuple_variable.count(element)"
   ]
  },
  {
   "cell_type": "code",
   "execution_count": 25,
   "id": "ae903e85",
   "metadata": {},
   "outputs": [
    {
     "name": "stdout",
     "output_type": "stream",
     "text": [
      "2\n",
      "2\n"
     ]
    }
   ],
   "source": [
    "print(t2.count('python'))\n",
    "print(t2.count(20))"
   ]
  },
  {
   "cell_type": "code",
   "execution_count": 33,
   "id": "1a8aa492",
   "metadata": {},
   "outputs": [
    {
     "name": "stdout",
     "output_type": "stream",
     "text": [
      "(10, 20, 30, 'python', 'java', 56.7, 7, 10, 20, 'python')\n",
      "[10, 20, 30, 'python', 'java', 56.7, 7, 10, 20, 'python']\n",
      "<class 'list'>\n",
      "[10, 20, 30, 'python', 'C++', 56.7, 7, 10, 20, 'python']\n"
     ]
    },
    {
     "data": {
      "text/plain": [
       "(10, 20, 30, 'python', 'C++', 56.7, 7, 10, 20, 'python')"
      ]
     },
     "execution_count": 33,
     "metadata": {},
     "output_type": "execute_result"
    }
   ],
   "source": [
    "#### how to update elements in tuple:\n",
    "print(t2)\n",
    "t3=list(t2)\n",
    "print(t3)\n",
    "print(type(t3))\n",
    "# print(t3.index('java'))\n",
    "t3[4]=\"C++\"\n",
    "print(t3)\n",
    "# convert list into tuple\n",
    "t3=tuple(t3)\n",
    "t3"
   ]
  },
  {
   "cell_type": "markdown",
   "id": "6fe68c56",
   "metadata": {},
   "source": [
    "#### set:\n",
    "    - it is a colletion of different data items in a single variables\n",
    "    - set is unordered and un indexed\n",
    "    - for representation we are using curly brackets\"{}\"\n",
    "    - set will not allow the duplicate elements\n",
    "    - in set data can not be update but we can add the new data\n",
    "    - syntax:\n",
    "        set_variable_nam={e1,e2,e3,e4....en}"
   ]
  },
  {
   "cell_type": "code",
   "execution_count": 35,
   "id": "88d33315",
   "metadata": {},
   "outputs": [
    {
     "name": "stdout",
     "output_type": "stream",
     "text": [
      "<class 'set'>\n"
     ]
    }
   ],
   "source": [
    "#### to create the empty set:\n",
    "s=set()\n",
    "print(type(s))"
   ]
  },
  {
   "cell_type": "code",
   "execution_count": 36,
   "id": "706562c5",
   "metadata": {},
   "outputs": [
    {
     "name": "stdout",
     "output_type": "stream",
     "text": [
      "{20, 40, 10, 11, 30}\n"
     ]
    }
   ],
   "source": [
    "# to store multiple elements in set:\n",
    "s1={10,20,30,10,20,30,40,11,20}\n",
    "print(s1)"
   ]
  },
  {
   "cell_type": "code",
   "execution_count": 37,
   "id": "c1f547aa",
   "metadata": {},
   "outputs": [
    {
     "name": "stdout",
     "output_type": "stream",
     "text": [
      "20 40 10 11 30 "
     ]
    }
   ],
   "source": [
    "for i in s1:\n",
    "    print(i,end=\" \")"
   ]
  },
  {
   "cell_type": "code",
   "execution_count": 38,
   "id": "339fac30",
   "metadata": {},
   "outputs": [
    {
     "ename": "TypeError",
     "evalue": "'set' object is not subscriptable",
     "output_type": "error",
     "traceback": [
      "\u001b[1;31m---------------------------------------------------------------------------\u001b[0m",
      "\u001b[1;31mTypeError\u001b[0m                                 Traceback (most recent call last)",
      "\u001b[1;32m~\\AppData\\Local\\Temp\\ipykernel_12424\\2808656502.py\u001b[0m in \u001b[0;36m<module>\u001b[1;34m\u001b[0m\n\u001b[1;32m----> 1\u001b[1;33m \u001b[0mprint\u001b[0m\u001b[1;33m(\u001b[0m\u001b[0ms1\u001b[0m\u001b[1;33m[\u001b[0m\u001b[1;36m0\u001b[0m\u001b[1;33m]\u001b[0m\u001b[1;33m)\u001b[0m\u001b[1;33m\u001b[0m\u001b[1;33m\u001b[0m\u001b[0m\n\u001b[0m",
      "\u001b[1;31mTypeError\u001b[0m: 'set' object is not subscriptable"
     ]
    }
   ],
   "source": [
    "print(s1[0])"
   ]
  },
  {
   "cell_type": "code",
   "execution_count": 39,
   "id": "686961de",
   "metadata": {},
   "outputs": [
    {
     "name": "stdout",
     "output_type": "stream",
     "text": [
      "['__and__', '__class__', '__class_getitem__', '__contains__', '__delattr__', '__dir__', '__doc__', '__eq__', '__format__', '__ge__', '__getattribute__', '__gt__', '__hash__', '__iand__', '__init__', '__init_subclass__', '__ior__', '__isub__', '__iter__', '__ixor__', '__le__', '__len__', '__lt__', '__ne__', '__new__', '__or__', '__rand__', '__reduce__', '__reduce_ex__', '__repr__', '__ror__', '__rsub__', '__rxor__', '__setattr__', '__sizeof__', '__str__', '__sub__', '__subclasshook__', '__xor__', 'add', 'clear', 'copy', 'difference', 'difference_update', 'discard', 'intersection', 'intersection_update', 'isdisjoint', 'issubset', 'issuperset', 'pop', 'remove', 'symmetric_difference', 'symmetric_difference_update', 'union', 'update']\n"
     ]
    }
   ],
   "source": [
    "# set methods\n",
    "print(dir(set))"
   ]
  },
  {
   "cell_type": "code",
   "execution_count": 40,
   "id": "73022641",
   "metadata": {},
   "outputs": [
    {
     "name": "stdout",
     "output_type": "stream",
     "text": [
      "{20, 40, 10, 11, 30}\n"
     ]
    }
   ],
   "source": [
    "print(s1)"
   ]
  },
  {
   "cell_type": "markdown",
   "id": "07c3ebac",
   "metadata": {},
   "source": [
    "#### add:\n",
    "    - to add the new element to the set\n",
    "    - syntax:\n",
    "        set_variable.add(new_element)"
   ]
  },
  {
   "cell_type": "code",
   "execution_count": 41,
   "id": "4db448c4",
   "metadata": {},
   "outputs": [
    {
     "name": "stdout",
     "output_type": "stream",
     "text": [
      "{20, 40, 10, 11, 30}\n"
     ]
    }
   ],
   "source": [
    "print(s1)"
   ]
  },
  {
   "cell_type": "code",
   "execution_count": 44,
   "id": "10194ee6",
   "metadata": {},
   "outputs": [
    {
     "name": "stdout",
     "output_type": "stream",
     "text": [
      "{20, 100, 40, 10, 11, 30}\n"
     ]
    }
   ],
   "source": [
    "s1.add(100)\n",
    "print(s1)"
   ]
  },
  {
   "cell_type": "code",
   "execution_count": null,
   "id": "e6863c3e",
   "metadata": {},
   "outputs": [],
   "source": [
    "# update:\n",
    "    - we can add multiple elements to the set"
   ]
  },
  {
   "cell_type": "code",
   "execution_count": 46,
   "id": "372f63dd",
   "metadata": {},
   "outputs": [
    {
     "name": "stdout",
     "output_type": "stream",
     "text": [
      "{20, 100, 40, 10, 11, 30}\n",
      "{34, 56, 20, 100, 40, 10, 11, 30}\n"
     ]
    }
   ],
   "source": [
    "print(s1)\n",
    "s1.update([34,56])\n",
    "print(s1)"
   ]
  },
  {
   "cell_type": "code",
   "execution_count": null,
   "id": "f81935d9",
   "metadata": {},
   "outputs": [],
   "source": [
    "# copy\n",
    "    - to copy the data from one set to another set"
   ]
  },
  {
   "cell_type": "code",
   "execution_count": 49,
   "id": "beb6fb01",
   "metadata": {},
   "outputs": [
    {
     "name": "stdout",
     "output_type": "stream",
     "text": [
      "{34, 56, 20, 100, 40, 10, 11, 30}\n",
      "{34, 100, 40, 10, 11, 20, 56, 30}\n"
     ]
    }
   ],
   "source": [
    "print(s1)\n",
    "s2=s1.copy()\n",
    "print(s2)"
   ]
  },
  {
   "cell_type": "code",
   "execution_count": null,
   "id": "2a297a70",
   "metadata": {},
   "outputs": [],
   "source": [
    "# remove:\n",
    "    - to remove the element from a set\n",
    "    "
   ]
  },
  {
   "cell_type": "code",
   "execution_count": 51,
   "id": "9b7bde93",
   "metadata": {},
   "outputs": [
    {
     "name": "stdout",
     "output_type": "stream",
     "text": [
      "{34, 56, 20, 100, 40, 10, 11, 30}\n",
      "{34, 56, 20, 40, 10, 11, 30}\n"
     ]
    }
   ],
   "source": [
    "print(s1)\n",
    "s1.remove(100)\n",
    "print(s1)"
   ]
  },
  {
   "cell_type": "code",
   "execution_count": 53,
   "id": "2f3fa600",
   "metadata": {},
   "outputs": [
    {
     "name": "stdout",
     "output_type": "stream",
     "text": [
      "{34, 56, 20, 40, 10, 11, 30}\n",
      "{34, 56, 40, 10, 11, 30}\n"
     ]
    }
   ],
   "source": [
    "# discard()\n",
    "print(s1)\n",
    "s1.discard(20)\n",
    "print(s1)"
   ]
  },
  {
   "cell_type": "code",
   "execution_count": null,
   "id": "d4c281f9",
   "metadata": {},
   "outputs": [],
   "source": [
    "# pop:\n",
    "    - it removes first element from the set  "
   ]
  },
  {
   "cell_type": "code",
   "execution_count": 58,
   "id": "89b746ba",
   "metadata": {},
   "outputs": [
    {
     "name": "stdout",
     "output_type": "stream",
     "text": [
      "{11, 30}\n",
      "{30}\n"
     ]
    }
   ],
   "source": [
    "print(s1)\n",
    "s1.pop()\n",
    "print(s1)\n"
   ]
  },
  {
   "cell_type": "code",
   "execution_count": null,
   "id": "fffaa6d7",
   "metadata": {},
   "outputs": [],
   "source": [
    "# clear\n",
    "    - to clear the set elements"
   ]
  },
  {
   "cell_type": "code",
   "execution_count": 60,
   "id": "6c116a21",
   "metadata": {},
   "outputs": [
    {
     "name": "stdout",
     "output_type": "stream",
     "text": [
      "{30}\n",
      "{34, 100, 40, 10, 11, 20, 56, 30}\n"
     ]
    }
   ],
   "source": [
    "print(s1)\n",
    "print(s2)"
   ]
  },
  {
   "cell_type": "code",
   "execution_count": 62,
   "id": "638932ef",
   "metadata": {},
   "outputs": [
    {
     "name": "stdout",
     "output_type": "stream",
     "text": [
      "set()\n"
     ]
    }
   ],
   "source": [
    "s2.clear()\n",
    "print(s2)"
   ]
  },
  {
   "cell_type": "markdown",
   "id": "5066527c",
   "metadata": {},
   "source": [
    "##### union:\n",
    "    - it combines the two sets data into single set\n",
    "    - syntax\n",
    "            - first_set_variable.union(second_set_variable)"
   ]
  },
  {
   "cell_type": "code",
   "execution_count": 63,
   "id": "5f251a50",
   "metadata": {},
   "outputs": [
    {
     "name": "stdout",
     "output_type": "stream",
     "text": [
      "{1, 2, 3, 'c', 'b', 'd', 'a'}\n"
     ]
    }
   ],
   "source": [
    "s4={1,2,3}\n",
    "s5={'a','b','c','d'}\n",
    "result=s4.union(s5)\n",
    "print(result)"
   ]
  },
  {
   "cell_type": "markdown",
   "id": "2af7d6ce",
   "metadata": {},
   "source": [
    "##### intersection:\n",
    "        - it returns common elements from two sets\n",
    "        - syntax:\n",
    "            set1.interssection(set2)"
   ]
  },
  {
   "cell_type": "code",
   "execution_count": 68,
   "id": "74759153",
   "metadata": {},
   "outputs": [
    {
     "name": "stdout",
     "output_type": "stream",
     "text": [
      "{'banana', 'mango'}\n"
     ]
    }
   ],
   "source": [
    "x={'apple','banana','mango'}\n",
    "y={'boll','fan','banana','bag','mango'}\n",
    "res1=x.intersection(y)\n",
    "print(res1)"
   ]
  },
  {
   "cell_type": "code",
   "execution_count": 69,
   "id": "9dc782ce",
   "metadata": {},
   "outputs": [],
   "source": [
    "r1=x.intersection_update(y)\n",
    "r1"
   ]
  },
  {
   "cell_type": "markdown",
   "id": "5c520ffc",
   "metadata": {},
   "source": [
    "#### difference()\n",
    "    - the items that only exists in set x and not in set y"
   ]
  },
  {
   "cell_type": "code",
   "execution_count": 70,
   "id": "0a23f2d6",
   "metadata": {},
   "outputs": [
    {
     "name": "stdout",
     "output_type": "stream",
     "text": [
      "{'google', 'apple'}\n"
     ]
    }
   ],
   "source": [
    "a={'apple','banana','google'}\n",
    "b={'banana','ibm','fan','bag','mango'}\n",
    "c=a.difference(b)\n",
    "print(c)"
   ]
  },
  {
   "cell_type": "code",
   "execution_count": null,
   "id": "16ab0a53",
   "metadata": {},
   "outputs": [],
   "source": []
  }
 ],
 "metadata": {
  "kernelspec": {
   "display_name": "Python 3 (ipykernel)",
   "language": "python",
   "name": "python3"
  },
  "language_info": {
   "codemirror_mode": {
    "name": "ipython",
    "version": 3
   },
   "file_extension": ".py",
   "mimetype": "text/x-python",
   "name": "python",
   "nbconvert_exporter": "python",
   "pygments_lexer": "ipython3",
   "version": "3.9.13"
  }
 },
 "nbformat": 4,
 "nbformat_minor": 5
}
