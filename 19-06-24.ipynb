{
 "cells": [
  {
   "cell_type": "code",
   "execution_count": 4,
   "id": "5e80fc9b",
   "metadata": {},
   "outputs": [
    {
     "data": {
      "text/plain": [
       "2"
      ]
     },
     "execution_count": 4,
     "metadata": {},
     "output_type": "execute_result"
    }
   ],
   "source": [
    "# function to count the occurances of a character in a string\n",
    "\n",
    "def countcharoccurs(st,c):\n",
    "    count=0\n",
    "    for ch in st:\n",
    "        if ch==c:\n",
    "            count=count+1\n",
    "    return count\n",
    "\n",
    "\n",
    "countcharoccurs('hello','l')           "
   ]
  },
  {
   "cell_type": "code",
   "execution_count": 5,
   "id": "f2f152a9",
   "metadata": {},
   "outputs": [
    {
     "name": "stdout",
     "output_type": "stream",
     "text": [
      "2\n"
     ]
    }
   ],
   "source": [
    "# find the number of occurance of a substring\n",
    "\n",
    "s=\"python programming python\"\n",
    "print(s.count(\"python\"))"
   ]
  },
  {
   "cell_type": "code",
   "execution_count": 9,
   "id": "aec80284",
   "metadata": {},
   "outputs": [
    {
     "name": "stdout",
     "output_type": "stream",
     "text": [
      "sum of the digits is:  30\n"
     ]
    }
   ],
   "source": [
    "# digit sum\n",
    "\n",
    "s=\"py67th 89on\"\n",
    "\n",
    "# 6+7+8+9=30\n",
    "st=\"\"\n",
    "sm=0\n",
    "for i in s:\n",
    "    if i.isdigit():\n",
    "        st+=i\n",
    "#print(st)   \n",
    "#print(type(st))\n",
    "for i in st:\n",
    "    #print(i,type(i))\n",
    "    sm+=int(i)\n",
    "print(\"sum of the digits is: \",sm)"
   ]
  },
  {
   "cell_type": "markdown",
   "id": "c42ae9bf",
   "metadata": {},
   "source": [
    "### Data Structures\n",
    "\n",
    "* Data structures are a way of organizing and storing data\n",
    "\n",
    "* 4 types\n",
    "* 1. list\n",
    "* 2. tuple\n",
    "* 3. Dictionary\n",
    "* 4. Set"
   ]
  },
  {
   "cell_type": "markdown",
   "id": "67020b06",
   "metadata": {},
   "source": [
    "### Lists\n",
    "\n",
    "* List is a datastructure that holds an ordered collection of items\n",
    "* allows duplicates\n",
    "* created by using square brackets []\n",
    "* list is mutable, i.e changeable\n"
   ]
  },
  {
   "cell_type": "code",
   "execution_count": 19,
   "id": "637de41f",
   "metadata": {
    "collapsed": true
   },
   "outputs": [
    {
     "name": "stdout",
     "output_type": "stream",
     "text": [
      "[10, 20, 40, 30, 50]\n",
      "<class 'list'>\n",
      "50\n",
      "10\n",
      "5\n",
      "150\n",
      "[10, 20, 30, 40, 50]\n",
      "[50, 40, 30, 20, 10]\n"
     ]
    }
   ],
   "source": [
    "# creating a list\n",
    "\n",
    "l=[10,20,40,30,50]\n",
    "print(l)\n",
    "print(type(l))\n",
    "print(max(l))   # maximum value of a list\n",
    "print(min(l))  # minimum value of a list\n",
    "print(len(l))  # length of a list\n",
    "print(sum(l))   # sum of all items of a list\n",
    "print(sorted(l))  # acsending order\n",
    "print(sorted(l,reverse=True))   # Descending order"
   ]
  },
  {
   "cell_type": "code",
   "execution_count": 20,
   "id": "b70cb640",
   "metadata": {},
   "outputs": [
    {
     "name": "stdout",
     "output_type": "stream",
     "text": [
      "[10, 29.8, 'python', 88] <class 'list'>\n"
     ]
    }
   ],
   "source": [
    "l=[10,29.8,'python',88]  # different data types\n",
    "print(l,type(l))"
   ]
  },
  {
   "cell_type": "code",
   "execution_count": 21,
   "id": "fbc4104b",
   "metadata": {},
   "outputs": [
    {
     "name": "stdout",
     "output_type": "stream",
     "text": [
      "[90, 87, 23, 90, 100, 30, 90]\n"
     ]
    }
   ],
   "source": [
    "l=[90,87,23,90,100,30,90]  # duplicates, unordered\n",
    "print(l)"
   ]
  },
  {
   "cell_type": "code",
   "execution_count": 29,
   "id": "a2fcf847",
   "metadata": {
    "collapsed": true
   },
   "outputs": [
    {
     "name": "stdout",
     "output_type": "stream",
     "text": [
      "78\n",
      "88\n",
      "10\n",
      "56\n",
      "134\n"
     ]
    }
   ],
   "source": [
    "# accessing list elements\n",
    "\n",
    "l=[10,56,78,44,88]\n",
    "#   0  1   2  3 4    positive index or forward index\n",
    "#  -5 -4  -3 -2 -1   negative index or backward index\n",
    "\n",
    "print(l[2])\n",
    "print(l[-1])\n",
    "print(l[0])\n",
    "print(l[1])\n",
    "print(l[1]+l[2])"
   ]
  },
  {
   "cell_type": "code",
   "execution_count": 30,
   "id": "b3592923",
   "metadata": {},
   "outputs": [
    {
     "data": {
      "text/plain": [
       "[10, 20, 30, 40, 50, 60]"
      ]
     },
     "execution_count": 30,
     "metadata": {},
     "output_type": "execute_result"
    }
   ],
   "source": [
    "# concatenation +\n",
    "\n",
    "l1=[10,20,30]\n",
    "l2=[40,50,60]\n",
    "l1+l2"
   ]
  },
  {
   "cell_type": "code",
   "execution_count": 31,
   "id": "07bf2635",
   "metadata": {},
   "outputs": [
    {
     "data": {
      "text/plain": [
       "[1, 2, 3, 1, 2, 3, 1, 2, 3, 1, 2, 3, 1, 2, 3]"
      ]
     },
     "execution_count": 31,
     "metadata": {},
     "output_type": "execute_result"
    }
   ],
   "source": [
    "# repetition *\n",
    "\n",
    "l1=[1,2,3]\n",
    "l1*5"
   ]
  },
  {
   "cell_type": "code",
   "execution_count": 36,
   "id": "60400659",
   "metadata": {
    "collapsed": true
   },
   "outputs": [
    {
     "name": "stdout",
     "output_type": "stream",
     "text": [
      "[10, 20, 30]\n",
      "[30, 40, 50]\n",
      "[10, 30, 50]\n",
      "[20, 40]\n",
      "[50, 40, 30, 20, 10]\n"
     ]
    }
   ],
   "source": [
    "# slicing  [start:end:step]\n",
    "\n",
    "l=[10,20,30,40,50]\n",
    "print(l[:3])\n",
    "print(l[2:])\n",
    "print(l[::2])\n",
    "print(l[1::2])\n",
    "print(l[::-1])   # reverse of a list"
   ]
  },
  {
   "cell_type": "code",
   "execution_count": 38,
   "id": "059ff795",
   "metadata": {},
   "outputs": [
    {
     "name": "stdout",
     "output_type": "stream",
     "text": [
      "[10, 100, 76, 45]\n"
     ]
    }
   ],
   "source": [
    "# list is mutable\n",
    "\n",
    "l=[10,98,76,45]\n",
    "l[1]=100\n",
    "print(l)"
   ]
  },
  {
   "cell_type": "code",
   "execution_count": 39,
   "id": "d6534d22",
   "metadata": {
    "collapsed": true
   },
   "outputs": [
    {
     "name": "stdout",
     "output_type": "stream",
     "text": [
      "['__add__', '__class__', '__class_getitem__', '__contains__', '__delattr__', '__delitem__', '__dir__', '__doc__', '__eq__', '__format__', '__ge__', '__getattribute__', '__getitem__', '__gt__', '__hash__', '__iadd__', '__imul__', '__init__', '__init_subclass__', '__iter__', '__le__', '__len__', '__lt__', '__mul__', '__ne__', '__new__', '__reduce__', '__reduce_ex__', '__repr__', '__reversed__', '__rmul__', '__setattr__', '__setitem__', '__sizeof__', '__str__', '__subclasshook__', 'append', 'clear', 'copy', 'count', 'extend', 'index', 'insert', 'pop', 'remove', 'reverse', 'sort'] "
     ]
    }
   ],
   "source": [
    "print(dir(list),end=\" \")"
   ]
  },
  {
   "cell_type": "code",
   "execution_count": 40,
   "id": "54127658",
   "metadata": {},
   "outputs": [
    {
     "name": "stdout",
     "output_type": "stream",
     "text": [
      "[20, 45, 68, 90, 65]\n",
      "[20, 45, 68, 90, 65, 300]\n"
     ]
    }
   ],
   "source": [
    "# append -> to add a single item at the end of  a list\n",
    "\n",
    "l=[20,45,68,90,65]\n",
    "# 300\n",
    "print(l)\n",
    "l.append(300)\n",
    "print(l)"
   ]
  },
  {
   "cell_type": "code",
   "execution_count": 41,
   "id": "05936afe",
   "metadata": {},
   "outputs": [
    {
     "name": "stdout",
     "output_type": "stream",
     "text": [
      "[20, 45, 68, 90, 65, 300, 301, 302]\n"
     ]
    }
   ],
   "source": [
    "# extend \n",
    "\n",
    "l.extend([301,302])\n",
    "print(l)"
   ]
  },
  {
   "cell_type": "code",
   "execution_count": 42,
   "id": "adc466c6",
   "metadata": {},
   "outputs": [
    {
     "name": "stdout",
     "output_type": "stream",
     "text": [
      "[1, 2, 3, [4, 5, 6]]\n",
      "[4, 5, 6]\n"
     ]
    }
   ],
   "source": [
    "l1=[1,2,3]\n",
    "l2=[4,5,6]\n",
    "l1.append(l2)\n",
    "print(l1)\n",
    "print(l2)"
   ]
  },
  {
   "cell_type": "code",
   "execution_count": 43,
   "id": "6fb6094a",
   "metadata": {},
   "outputs": [
    {
     "name": "stdout",
     "output_type": "stream",
     "text": [
      "[1, 2, 3, 4, 5, 6]\n",
      "[4, 5, 6]\n"
     ]
    }
   ],
   "source": [
    "l1=[1,2,3]\n",
    "l2=[4,5,6]\n",
    "l1.extend(l2)\n",
    "print(l1)\n",
    "print(l2)"
   ]
  },
  {
   "cell_type": "code",
   "execution_count": 55,
   "id": "083e02b0",
   "metadata": {},
   "outputs": [
    {
     "name": "stdout",
     "output_type": "stream",
     "text": [
      "[90, 85, 87, 67, 54, 12]\n"
     ]
    }
   ],
   "source": [
    "# insert(index,value)\n",
    "\n",
    "l=[90,87,67,54,12]  \n",
    "l.insert(1,85)\n",
    "print(l)"
   ]
  },
  {
   "cell_type": "code",
   "execution_count": 56,
   "id": "b7463bf8",
   "metadata": {},
   "outputs": [
    {
     "data": {
      "text/plain": [
       "4"
      ]
     },
     "execution_count": 56,
     "metadata": {},
     "output_type": "execute_result"
    }
   ],
   "source": [
    "# index\n",
    "\n",
    "l.index(54)"
   ]
  },
  {
   "cell_type": "code",
   "execution_count": 57,
   "id": "3a0dbd1c",
   "metadata": {},
   "outputs": [
    {
     "name": "stdout",
     "output_type": "stream",
     "text": [
      "[90, 85, 87, 67, 54, 12, 67, 90, 67]\n",
      "2\n"
     ]
    }
   ],
   "source": [
    "l.extend([67,90,67])\n",
    "print(l)\n",
    "print(l.count(90))"
   ]
  },
  {
   "cell_type": "code",
   "execution_count": 60,
   "id": "cf463c65",
   "metadata": {},
   "outputs": [
    {
     "name": "stdout",
     "output_type": "stream",
     "text": [
      "[10, 20, 40, 50]\n"
     ]
    }
   ],
   "source": [
    "# remove\n",
    "\n",
    "l=[10,20,30,40,50]\n",
    "l.remove(30)   # value\n",
    "print(l)"
   ]
  },
  {
   "cell_type": "code",
   "execution_count": 61,
   "id": "6bc28d6f",
   "metadata": {},
   "outputs": [
    {
     "name": "stdout",
     "output_type": "stream",
     "text": [
      "[10, 40, 50]\n"
     ]
    }
   ],
   "source": [
    "# pop()\n",
    "\n",
    "l.pop(1)   # index\n",
    "print(l)"
   ]
  },
  {
   "cell_type": "code",
   "execution_count": 73,
   "id": "84688987",
   "metadata": {},
   "outputs": [
    {
     "data": {
      "text/plain": [
       "[5, 3, 4, 2, 1]"
      ]
     },
     "execution_count": 73,
     "metadata": {},
     "output_type": "execute_result"
    }
   ],
   "source": [
    "# reverse\n",
    "\n",
    "l=[1,2,4,3,5]\n",
    "l.reverse()\n",
    "l"
   ]
  },
  {
   "cell_type": "code",
   "execution_count": 74,
   "id": "86dd232d",
   "metadata": {},
   "outputs": [
    {
     "name": "stdout",
     "output_type": "stream",
     "text": [
      "increasing order :  [1, 2, 3, 4, 5]\n",
      "decreasing order:  [5, 4, 3, 2, 1]\n"
     ]
    }
   ],
   "source": [
    "# sorting\n",
    "\n",
    "l.sort()\n",
    "print(\"increasing order : \",l)\n",
    "l.sort(reverse=True)\n",
    "print(\"decreasing order: \", l)"
   ]
  },
  {
   "cell_type": "code",
   "execution_count": 75,
   "id": "feb2303c",
   "metadata": {},
   "outputs": [
    {
     "name": "stdout",
     "output_type": "stream",
     "text": [
      "[]\n"
     ]
    }
   ],
   "source": [
    "# clear\n",
    "\n",
    "l.clear()\n",
    "print(l)"
   ]
  },
  {
   "cell_type": "code",
   "execution_count": 77,
   "id": "a3963631",
   "metadata": {
    "collapsed": true
   },
   "outputs": [
    {
     "ename": "NameError",
     "evalue": "name 'l' is not defined",
     "output_type": "error",
     "traceback": [
      "\u001b[1;31m---------------------------------------------------------------------------\u001b[0m",
      "\u001b[1;31mNameError\u001b[0m                                 Traceback (most recent call last)",
      "\u001b[1;32m~\\AppData\\Local\\Temp\\ipykernel_8100\\2450469390.py\u001b[0m in \u001b[0;36m<module>\u001b[1;34m\u001b[0m\n\u001b[1;32m----> 1\u001b[1;33m \u001b[1;32mdel\u001b[0m \u001b[0ml\u001b[0m\u001b[1;33m\u001b[0m\u001b[1;33m\u001b[0m\u001b[0m\n\u001b[0m",
      "\u001b[1;31mNameError\u001b[0m: name 'l' is not defined"
     ]
    }
   ],
   "source": [
    "del l"
   ]
  },
  {
   "cell_type": "code",
   "execution_count": 79,
   "id": "5168b71d",
   "metadata": {},
   "outputs": [
    {
     "name": "stdout",
     "output_type": "stream",
     "text": [
      "[100, 200, 300, 400, 500]\n",
      "[100, 200, 300, 400, 500]\n",
      "[100, 200, 300, 400, 500, 600]\n",
      "[100, 200, 300, 400, 500]\n"
     ]
    }
   ],
   "source": [
    "# copy\n",
    "\n",
    "l1=[100,200,300,400,500]\n",
    "l2=l1.copy()\n",
    "print(l1)\n",
    "print(l2)\n",
    "l1.append(600)\n",
    "print(l1)\n",
    "print(l2)"
   ]
  },
  {
   "cell_type": "code",
   "execution_count": null,
   "id": "9f4a27e6",
   "metadata": {},
   "outputs": [],
   "source": []
  }
 ],
 "metadata": {
  "kernelspec": {
   "display_name": "Python 3 (ipykernel)",
   "language": "python",
   "name": "python3"
  },
  "language_info": {
   "codemirror_mode": {
    "name": "ipython",
    "version": 3
   },
   "file_extension": ".py",
   "mimetype": "text/x-python",
   "name": "python",
   "nbconvert_exporter": "python",
   "pygments_lexer": "ipython3",
   "version": "3.9.13"
  }
 },
 "nbformat": 4,
 "nbformat_minor": 5
}
