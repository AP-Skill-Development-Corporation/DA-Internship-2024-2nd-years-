{
 "cells": [
  {
   "cell_type": "markdown",
   "id": "d3ac89d7",
   "metadata": {},
   "source": [
    "### Markdown syntax"
   ]
  },
  {
   "cell_type": "markdown",
   "id": "66cad6b9",
   "metadata": {},
   "source": [
    "### Shortcuts\n",
    "\n",
    "* esc + m -> used to convert coding cell into markdown cell\n",
    "* esc + y -> used to convert markdown cell into coding cell\n",
    "* esc + a -> for new cell above\n",
    "* esc + b -> for new cell below\n",
    "* esc + h -> shortcuts\n",
    "* Shift + Enter -> to run the cells\n"
   ]
  },
  {
   "cell_type": "markdown",
   "id": "b878ea44",
   "metadata": {},
   "source": [
    "# largest heading\n",
    "## The second largest heading\n",
    "### third largest heading\n",
    "#### h4\n",
    "##### h5\n",
    "###### the smallest heading"
   ]
  },
  {
   "cell_type": "markdown",
   "id": "d3f36c52",
   "metadata": {},
   "source": [
    "### styling text\n",
    "\n",
    "* **This is bold text** \n",
    "* *this is italic*  \n",
    "* ***This is bold and italic***\n",
    "*  ~~This is strike through~~"
   ]
  },
  {
   "cell_type": "markdown",
   "id": "ba41656a",
   "metadata": {},
   "source": [
    "### Unordered list:\n",
    "\n",
    "* Cities\n",
    "* Vijayawada\n",
    "* Guntur\n",
    "* Delhi\n",
    "* Mumbai\n",
    "\n",
    "\n",
    "### Ordered list: \n",
    "\n",
    "* Branches\n",
    "1. IT\n",
    "2. CSE\n",
    "3. EEE\n",
    "4. ECE\n",
    "5. MECH\n",
    "6. CIVIL\n"
   ]
  },
  {
   "cell_type": "markdown",
   "id": "2f200b80",
   "metadata": {},
   "source": [
    "### Inserting a link\n",
    "\n",
    "*  [Google.com](https://www.google.com)\n",
    "*  [Gmail.com](https://www.gmail.com)\n",
    "*  [Facebook.com](https://www.facebook.com)"
   ]
  },
  {
   "cell_type": "markdown",
   "id": "6e6a76c3",
   "metadata": {},
   "source": [
    "###  creating link to an image\n",
    "\n",
    "[python logo](python-image.jpg)\n"
   ]
  },
  {
   "cell_type": "markdown",
   "id": "c7857a97",
   "metadata": {},
   "source": [
    "### Adding images to markdown\n",
    "\n",
    "### <img src=\"python-image.jpg\" style=\"height:100px; width:100px;\">"
   ]
  },
  {
   "cell_type": "code",
   "execution_count": null,
   "id": "59fd1b82",
   "metadata": {},
   "outputs": [],
   "source": []
  }
 ],
 "metadata": {
  "kernelspec": {
   "display_name": "Python 3 (ipykernel)",
   "language": "python",
   "name": "python3"
  },
  "language_info": {
   "codemirror_mode": {
    "name": "ipython",
    "version": 3
   },
   "file_extension": ".py",
   "mimetype": "text/x-python",
   "name": "python",
   "nbconvert_exporter": "python",
   "pygments_lexer": "ipython3",
   "version": "3.9.13"
  }
 },
 "nbformat": 4,
 "nbformat_minor": 5
}
