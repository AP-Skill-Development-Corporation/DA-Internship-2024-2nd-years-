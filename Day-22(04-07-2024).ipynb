{
 "cells": [
  {
   "cell_type": "markdown",
   "id": "4bb95cc8",
   "metadata": {},
   "source": [
    "##### Day Objectives:\n",
    "        - pandas"
   ]
  },
  {
   "cell_type": "markdown",
   "id": "3e027eba",
   "metadata": {},
   "source": [
    "##### pandas:\n",
    "    - pandas stands for python data analysis library\n",
    "    - it is a open source library\n",
    "    - it is an excellent tool for data processing and analyzing for real world data.\n",
    "    \n",
    "#### library installation\n",
    "        - pip install pandas\n",
    "\n",
    "##### library usage:\n",
    "        - import pandas\n",
    "    \n",
    "##### pandas data structures:\n",
    "        - pandas has two different data structures:\n",
    "                    - pandas Series\n",
    "                    - pandas DataFrame\n",
    "##### pandas Series:\n",
    "    - it is mainly used to create 1-d dimensional array with named index\n",
    "    - syntax:\n",
    "            pandas.Series(list,tuple,dict)\n",
    "            \n",
    "##### pandas DataFrame:\n",
    "    - it is mainly for to create the 2-d dimensional array in the format of rows,columns\n",
    "    - syntax:\n",
    "            pandas.DataFrame(list,tuple,dict)\n"
   ]
  },
  {
   "cell_type": "code",
   "execution_count": 1,
   "id": "f1553915",
   "metadata": {
    "collapsed": true
   },
   "outputs": [
    {
     "name": "stdout",
     "output_type": "stream",
     "text": [
      "Defaulting to user installation because normal site-packages is not writeable\n",
      "Requirement already satisfied: pandas in c:\\programdata\\anaconda3\\lib\\site-packages (1.4.4)\n",
      "Requirement already satisfied: python-dateutil>=2.8.1 in c:\\programdata\\anaconda3\\lib\\site-packages (from pandas) (2.8.2)\n",
      "Requirement already satisfied: pytz>=2020.1 in c:\\programdata\\anaconda3\\lib\\site-packages (from pandas) (2022.1)\n",
      "Requirement already satisfied: numpy>=1.18.5 in c:\\programdata\\anaconda3\\lib\\site-packages (from pandas) (1.21.5)\n",
      "Requirement already satisfied: six>=1.5 in c:\\programdata\\anaconda3\\lib\\site-packages (from python-dateutil>=2.8.1->pandas) (1.16.0)\n",
      "Note: you may need to restart the kernel to use updated packages.\n"
     ]
    }
   ],
   "source": [
    "pip install pandas"
   ]
  },
  {
   "cell_type": "code",
   "execution_count": 4,
   "id": "a8f60037",
   "metadata": {},
   "outputs": [],
   "source": [
    "import pandas as pd"
   ]
  },
  {
   "cell_type": "code",
   "execution_count": 5,
   "id": "6dfcb3a2",
   "metadata": {},
   "outputs": [
    {
     "data": {
      "text/plain": [
       "'1.4.4'"
      ]
     },
     "execution_count": 5,
     "metadata": {},
     "output_type": "execute_result"
    }
   ],
   "source": [
    "pd.__version__"
   ]
  },
  {
   "cell_type": "markdown",
   "id": "a88674e9",
   "metadata": {},
   "source": [
    "##### pandas Series data structure:\n",
    "    - creating Series object using list,tuple,dictionary,numpy\n",
    "    - create pandas Series from array like object using pd.Series()\n",
    "    - the no of elements in the index list is always equals to the no of specified series\n",
    "    - syntax:\n",
    "        pd.Series(list,tuple,dict,numpy_array)"
   ]
  },
  {
   "cell_type": "code",
   "execution_count": 9,
   "id": "40c3f95d",
   "metadata": {
    "collapsed": true
   },
   "outputs": [
    {
     "name": "stdout",
     "output_type": "stream",
     "text": [
      "[89, 90, 56, 67, 34, 45]\n",
      "<class 'list'>\n",
      "0    89\n",
      "1    90\n",
      "2    56\n",
      "3    67\n",
      "4    34\n",
      "5    45\n",
      "dtype: int64\n",
      "<class 'pandas.core.series.Series'>\n"
     ]
    }
   ],
   "source": [
    "# creation of series data structure using list:\n",
    "l=[89,90,56,67,34,45]\n",
    "print(l)\n",
    "print(type(l))\n",
    "s1=pd.Series(l)\n",
    "print(s1)\n",
    "print(type(s1))"
   ]
  },
  {
   "cell_type": "code",
   "execution_count": 14,
   "id": "ba0b7868",
   "metadata": {
    "collapsed": true
   },
   "outputs": [
    {
     "name": "stdout",
     "output_type": "stream",
     "text": [
      "34\n",
      "0    89\n",
      "1    90\n",
      "2    56\n",
      "3    67\n",
      "4    34\n",
      "5    45\n",
      "dtype: int64\n",
      "5    45\n",
      "4    34\n",
      "3    67\n",
      "2    56\n",
      "1    90\n",
      "0    89\n",
      "dtype: int64\n",
      "0    89\n",
      "2    56\n",
      "4    34\n",
      "dtype: int64\n",
      "5    45\n",
      "3    67\n",
      "1    90\n",
      "dtype: int64\n"
     ]
    }
   ],
   "source": [
    "# how to access series elements:\n",
    "print(s1[4])\n",
    "print(s1[:])\n",
    "print(s1[::-1])\n",
    "print(s1[::2])\n",
    "print(s1[::-2])"
   ]
  },
  {
   "cell_type": "code",
   "execution_count": 17,
   "id": "39b2ed37",
   "metadata": {
    "collapsed": true
   },
   "outputs": [
    {
     "name": "stdout",
     "output_type": "stream",
     "text": [
      "['python', 67.8, 89, 90]\n",
      "0    python\n",
      "1      67.8\n",
      "2        89\n",
      "3        90\n",
      "dtype: object\n"
     ]
    }
   ],
   "source": [
    "li=['python',67.8,89,90]\n",
    "print(li)\n",
    "s2=pd.Series(li)\n",
    "print(s2)"
   ]
  },
  {
   "cell_type": "code",
   "execution_count": 21,
   "id": "44354760",
   "metadata": {},
   "outputs": [
    {
     "data": {
      "text/plain": [
       "A    89\n",
       "B    90\n",
       "C    56\n",
       "D    67\n",
       "E    34\n",
       "F    45\n",
       "dtype: int64"
      ]
     },
     "execution_count": 21,
     "metadata": {},
     "output_type": "execute_result"
    }
   ],
   "source": [
    "# to change the index names:\n",
    "s1.index=['A','B','C','D','E','F']\n",
    "s1"
   ]
  },
  {
   "cell_type": "code",
   "execution_count": 22,
   "id": "a70461a7",
   "metadata": {},
   "outputs": [
    {
     "data": {
      "text/plain": [
       "89"
      ]
     },
     "execution_count": 22,
     "metadata": {},
     "output_type": "execute_result"
    }
   ],
   "source": [
    "s1['A']"
   ]
  },
  {
   "cell_type": "code",
   "execution_count": 23,
   "id": "a5550bef",
   "metadata": {},
   "outputs": [
    {
     "data": {
      "text/plain": [
       "A    89\n",
       "B    90\n",
       "C    56\n",
       "D    67\n",
       "dtype: int64"
      ]
     },
     "execution_count": 23,
     "metadata": {},
     "output_type": "execute_result"
    }
   ],
   "source": [
    "s1['A':'D']"
   ]
  },
  {
   "cell_type": "code",
   "execution_count": 24,
   "id": "8a34d8c2",
   "metadata": {},
   "outputs": [
    {
     "data": {
      "text/plain": [
       "C    56\n",
       "D    67\n",
       "E    34\n",
       "F    45\n",
       "dtype: int64"
      ]
     },
     "execution_count": 24,
     "metadata": {},
     "output_type": "execute_result"
    }
   ],
   "source": [
    "s1['C':'F']"
   ]
  },
  {
   "cell_type": "code",
   "execution_count": 26,
   "id": "21615330",
   "metadata": {
    "collapsed": true
   },
   "outputs": [
    {
     "name": "stdout",
     "output_type": "stream",
     "text": [
      "0    10\n",
      "1    20\n",
      "2    45\n",
      "3    67\n",
      "dtype: int64\n",
      "<class 'pandas.core.series.Series'>\n"
     ]
    }
   ],
   "source": [
    "# How to create pandas series tuple:\n",
    "t=pd.Series((10,20,45,67))\n",
    "print(t)\n",
    "print(type(t))"
   ]
  },
  {
   "cell_type": "code",
   "execution_count": 28,
   "id": "417d9b3c",
   "metadata": {
    "collapsed": true
   },
   "outputs": [
    {
     "name": "stdout",
     "output_type": "stream",
     "text": [
      "1    10\n",
      "2    20\n",
      "3    45\n",
      "4    67\n",
      "dtype: int64\n",
      "<class 'pandas.core.series.Series'>\n"
     ]
    }
   ],
   "source": [
    "t=pd.Series((10,20,45,67),index=[1,2,3,4])\n",
    "print(t)\n",
    "print(type(t))"
   ]
  },
  {
   "cell_type": "code",
   "execution_count": 30,
   "id": "cf75a4d7",
   "metadata": {
    "collapsed": true
   },
   "outputs": [
    {
     "name": "stdout",
     "output_type": "stream",
     "text": [
      "1    10\n",
      "2    20\n",
      "3    45\n",
      "4    67\n",
      "dtype: int64\n",
      "4    67\n",
      "3    45\n",
      "2    20\n",
      "1    10\n",
      "dtype: int64\n"
     ]
    }
   ],
   "source": [
    "print(t[:])\n",
    "print(t[::-1])"
   ]
  },
  {
   "cell_type": "code",
   "execution_count": 31,
   "id": "21b2583e",
   "metadata": {},
   "outputs": [
    {
     "name": "stdout",
     "output_type": "stream",
     "text": [
      "{'name': 'srikanya', 'rno': 130659, 'section': 'A', 'branch': 'CSE', 'cgpa': 9.0}\n"
     ]
    }
   ],
   "source": [
    "# pandas Series by using dictionary:\n",
    "d={'name':'srikanya','rno':130659,'section':'A','branch':'CSE','cgpa':9.0}\n",
    "print(d)"
   ]
  },
  {
   "cell_type": "code",
   "execution_count": 33,
   "id": "9792f71e",
   "metadata": {},
   "outputs": [
    {
     "data": {
      "text/plain": [
       "name       srikanya\n",
       "rno          130659\n",
       "section           A\n",
       "branch          CSE\n",
       "cgpa            9.0\n",
       "dtype: object"
      ]
     },
     "execution_count": 33,
     "metadata": {},
     "output_type": "execute_result"
    }
   ],
   "source": [
    "sd=pd.Series(d)\n",
    "sd"
   ]
  },
  {
   "cell_type": "code",
   "execution_count": 34,
   "id": "4df8269d",
   "metadata": {},
   "outputs": [
    {
     "data": {
      "text/plain": [
       "'srikanya'"
      ]
     },
     "execution_count": 34,
     "metadata": {},
     "output_type": "execute_result"
    }
   ],
   "source": [
    "sd['name']"
   ]
  },
  {
   "cell_type": "code",
   "execution_count": 35,
   "id": "c7deb12b",
   "metadata": {},
   "outputs": [
    {
     "data": {
      "text/plain": [
       "9.0"
      ]
     },
     "execution_count": 35,
     "metadata": {},
     "output_type": "execute_result"
    }
   ],
   "source": [
    "sd['cgpa']"
   ]
  },
  {
   "cell_type": "code",
   "execution_count": 36,
   "id": "c18bdd6d",
   "metadata": {},
   "outputs": [
    {
     "data": {
      "text/plain": [
       "section      A\n",
       "branch     CSE\n",
       "cgpa       9.0\n",
       "dtype: object"
      ]
     },
     "execution_count": 36,
     "metadata": {},
     "output_type": "execute_result"
    }
   ],
   "source": [
    "sd['section':'cgpa']"
   ]
  },
  {
   "cell_type": "code",
   "execution_count": 39,
   "id": "750ee14b",
   "metadata": {},
   "outputs": [],
   "source": [
    "#### numpy\n",
    "import numpy as np"
   ]
  },
  {
   "cell_type": "code",
   "execution_count": 42,
   "id": "1e29bfda",
   "metadata": {},
   "outputs": [
    {
     "data": {
      "text/plain": [
       "0    1\n",
       "1    2\n",
       "2    3\n",
       "3    4\n",
       "dtype: int32"
      ]
     },
     "execution_count": 42,
     "metadata": {},
     "output_type": "execute_result"
    }
   ],
   "source": [
    "a=np.array([1,2,3,4])\n",
    "sd2=pd.Series(a)\n",
    "sd2"
   ]
  },
  {
   "cell_type": "code",
   "execution_count": 44,
   "id": "df079370",
   "metadata": {
    "collapsed": true
   },
   "outputs": [
    {
     "data": {
      "text/plain": [
       "0    1\n",
       "1    2\n",
       "2    3\n",
       "3    4\n",
       "4    5\n",
       "5    6\n",
       "6    7\n",
       "7    8\n",
       "8    9\n",
       "dtype: int32"
      ]
     },
     "execution_count": 44,
     "metadata": {},
     "output_type": "execute_result"
    }
   ],
   "source": [
    "a1=np.arange(1,10)\n",
    "sd3=pd.Series(a1)\n",
    "sd3"
   ]
  },
  {
   "cell_type": "code",
   "execution_count": 47,
   "id": "f5405875",
   "metadata": {},
   "outputs": [
    {
     "name": "stdout",
     "output_type": "stream",
     "text": [
      "6\n",
      "0    1\n",
      "1    2\n",
      "2    3\n",
      "3    4\n",
      "4    5\n",
      "5    6\n",
      "6    7\n",
      "7    8\n",
      "8    9\n",
      "dtype: int32\n",
      "0    1\n",
      "2    3\n",
      "4    5\n",
      "6    7\n",
      "8    9\n",
      "dtype: int32\n"
     ]
    }
   ],
   "source": [
    "print(sd3[5])\n",
    "print(sd3[:])\n",
    "print(sd3[::2])"
   ]
  },
  {
   "cell_type": "markdown",
   "id": "eb8e3642",
   "metadata": {},
   "source": [
    "#### update the series values:\n",
    "    - replace():\n",
    "        - using replace() method we can update the series value\n",
    "        - syntax:\n",
    "            series_variable.replace(to_replace='old_value',value='new_value')"
   ]
  },
  {
   "cell_type": "code",
   "execution_count": 48,
   "id": "52aae6ac",
   "metadata": {},
   "outputs": [
    {
     "name": "stdout",
     "output_type": "stream",
     "text": [
      "0        10\n",
      "1    apssdc\n",
      "2     45.67\n",
      "3        89\n",
      "4        90\n",
      "dtype: object\n"
     ]
    }
   ],
   "source": [
    "sr=pd.Series([10,'apssdc',45.67,89,90])\n",
    "print(sr)"
   ]
  },
  {
   "cell_type": "code",
   "execution_count": 49,
   "id": "b1b8a84a",
   "metadata": {},
   "outputs": [
    {
     "data": {
      "text/plain": [
       "0        10\n",
       "1    python\n",
       "2     45.67\n",
       "3        89\n",
       "4        90\n",
       "dtype: object"
      ]
     },
     "execution_count": 49,
     "metadata": {},
     "output_type": "execute_result"
    }
   ],
   "source": [
    "update=sr.replace(to_replace='apssdc',value='python')\n",
    "update"
   ]
  },
  {
   "cell_type": "code",
   "execution_count": 50,
   "id": "b362dcc1",
   "metadata": {
    "scrolled": true
   },
   "outputs": [
    {
     "data": {
      "text/plain": [
       "0        10\n",
       "1    apssdc\n",
       "2       100\n",
       "3        89\n",
       "4        90\n",
       "dtype: object"
      ]
     },
     "execution_count": 50,
     "metadata": {},
     "output_type": "execute_result"
    }
   ],
   "source": [
    "res=sr.replace(45.67,100)\n",
    "res"
   ]
  },
  {
   "cell_type": "code",
   "execution_count": 53,
   "id": "3622fca0",
   "metadata": {},
   "outputs": [
    {
     "data": {
      "text/plain": [
       "0        10\n",
       "1    apssdc\n",
       "2       100\n",
       "3       100\n",
       "4        90\n",
       "dtype: object"
      ]
     },
     "execution_count": 53,
     "metadata": {},
     "output_type": "execute_result"
    }
   ],
   "source": [
    "res2=res.replace(89,100)\n",
    "res2"
   ]
  },
  {
   "cell_type": "code",
   "execution_count": 54,
   "id": "80c55e37",
   "metadata": {},
   "outputs": [
    {
     "data": {
      "text/plain": [
       "0               10\n",
       "1           apssdc\n",
       "2    data analysis\n",
       "3    data analysis\n",
       "4               90\n",
       "dtype: object"
      ]
     },
     "execution_count": 54,
     "metadata": {},
     "output_type": "execute_result"
    }
   ],
   "source": [
    "res3=res2.replace(100,'data analysis')\n",
    "res3"
   ]
  },
  {
   "cell_type": "code",
   "execution_count": 55,
   "id": "fc09ff2c",
   "metadata": {},
   "outputs": [
    {
     "data": {
      "text/plain": [
       "0       100\n",
       "1    apssdc\n",
       "2      java\n",
       "3      java\n",
       "4       c++\n",
       "dtype: object"
      ]
     },
     "execution_count": 55,
     "metadata": {},
     "output_type": "execute_result"
    }
   ],
   "source": [
    "# to update the multiple data from series\n",
    "res4=res3.replace(to_replace=[10,'data analysis',90],value=[100,'java','c++'])\n",
    "res4"
   ]
  },
  {
   "cell_type": "markdown",
   "id": "08e9e2a3",
   "metadata": {},
   "source": [
    "#### delete the data in series:\n",
    "        - drop(labels=index_position,inplace=True)"
   ]
  },
  {
   "cell_type": "code",
   "execution_count": 56,
   "id": "d928b275",
   "metadata": {},
   "outputs": [
    {
     "data": {
      "text/plain": [
       "0       100\n",
       "1    apssdc\n",
       "2      java\n",
       "3      java\n",
       "4       c++\n",
       "dtype: object"
      ]
     },
     "execution_count": 56,
     "metadata": {},
     "output_type": "execute_result"
    }
   ],
   "source": [
    "res4"
   ]
  },
  {
   "cell_type": "code",
   "execution_count": 57,
   "id": "6b7dc288",
   "metadata": {},
   "outputs": [],
   "source": [
    "res4.drop(labels=2,inplace=True)"
   ]
  },
  {
   "cell_type": "code",
   "execution_count": 58,
   "id": "92cb3c3c",
   "metadata": {},
   "outputs": [
    {
     "data": {
      "text/plain": [
       "0       100\n",
       "1    apssdc\n",
       "3      java\n",
       "4       c++\n",
       "dtype: object"
      ]
     },
     "execution_count": 58,
     "metadata": {},
     "output_type": "execute_result"
    }
   ],
   "source": [
    "res4"
   ]
  },
  {
   "cell_type": "code",
   "execution_count": 59,
   "id": "706301a9",
   "metadata": {},
   "outputs": [],
   "source": [
    "res4.drop(labels=[0,4],inplace=True)"
   ]
  },
  {
   "cell_type": "code",
   "execution_count": 60,
   "id": "b53c0ac2",
   "metadata": {},
   "outputs": [
    {
     "data": {
      "text/plain": [
       "1    apssdc\n",
       "3      java\n",
       "dtype: object"
      ]
     },
     "execution_count": 60,
     "metadata": {},
     "output_type": "execute_result"
    }
   ],
   "source": [
    "res4"
   ]
  },
  {
   "cell_type": "markdown",
   "id": "9c11c0f8",
   "metadata": {},
   "source": [
    "#### Task:\n",
    "    - to create the series having index values starts from 10 to 20 and values are thier square root values\n",
    "    \n",
    "    ex:\n",
    "        10   100\n",
    "        11   121\n",
    "        12   144\n",
    "        13    .\n",
    "        14    .\n",
    "        15    .\n",
    "        16    .\n",
    "        17    .\n",
    "        18    .\n",
    "        19    .\n",
    "        20    400"
   ]
  },
  {
   "cell_type": "code",
   "execution_count": null,
   "id": "7c932289",
   "metadata": {},
   "outputs": [],
   "source": []
  }
 ],
 "metadata": {
  "kernelspec": {
   "display_name": "Python 3 (ipykernel)",
   "language": "python",
   "name": "python3"
  },
  "language_info": {
   "codemirror_mode": {
    "name": "ipython",
    "version": 3
   },
   "file_extension": ".py",
   "mimetype": "text/x-python",
   "name": "python",
   "nbconvert_exporter": "python",
   "pygments_lexer": "ipython3",
   "version": "3.9.13"
  }
 },
 "nbformat": 4,
 "nbformat_minor": 5
}
