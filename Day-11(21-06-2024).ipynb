{
 "cells": [
  {
   "cell_type": "markdown",
   "id": "3c118133",
   "metadata": {},
   "source": [
    "#### Day Objectives:\n",
    "    - Python Data Structures \n",
    "            - Dictionary"
   ]
  },
  {
   "cell_type": "markdown",
   "id": "240e45d8",
   "metadata": {},
   "source": [
    "##### dictionary:\n",
    "    - it is a group of key and value pair\n",
    "    - in dictionary keys are unique\n",
    "    - it is a represented as curly brackets \"{}\"\n",
    "    - each key and value(items) separated with comma(,)\n",
    "    - accessing dictionary values by using key names\n",
    "    - it is a mutable(changable)\n",
    "    - syntax:\n",
    "        dict_variable_name={key:value,key1:value1,key2:value2.....key n: value n}"
   ]
  },
  {
   "cell_type": "code",
   "execution_count": 2,
   "id": "5869adc7",
   "metadata": {},
   "outputs": [
    {
     "name": "stdout",
     "output_type": "stream",
     "text": [
      "{}\n",
      "<class 'dict'>\n"
     ]
    }
   ],
   "source": [
    "### create empty dictionary\n",
    "d={}\n",
    "print(d)\n",
    "print(type(d))"
   ]
  },
  {
   "cell_type": "code",
   "execution_count": 4,
   "id": "67203b46",
   "metadata": {},
   "outputs": [
    {
     "name": "stdout",
     "output_type": "stream",
     "text": [
      "{1}\n",
      "<class 'set'>\n"
     ]
    }
   ],
   "source": [
    "d1={1}\n",
    "print(d1)\n",
    "print(type(d1))"
   ]
  },
  {
   "cell_type": "code",
   "execution_count": 6,
   "id": "99e2db90",
   "metadata": {},
   "outputs": [
    {
     "name": "stdout",
     "output_type": "stream",
     "text": [
      "{'k1': 200, 'k2': 500, 3: 'python', 'k3': 'srikanya', 'session': 'Data-Analysis'}\n",
      "<class 'dict'>\n"
     ]
    }
   ],
   "source": [
    "#### creation of dictionary\n",
    "d2={'k1':200,'k2':500,3:'python','k3':'srikanya','session':'Data-Analysis'}\n",
    "print(d2)\n",
    "print(type(d2))"
   ]
  },
  {
   "cell_type": "markdown",
   "id": "3b12d77f",
   "metadata": {},
   "source": [
    "##### how to access values in dictionary\n",
    "        - dict_variable_name['key name']"
   ]
  },
  {
   "cell_type": "code",
   "execution_count": 9,
   "id": "ee0d6322",
   "metadata": {},
   "outputs": [
    {
     "name": "stdout",
     "output_type": "stream",
     "text": [
      "Data-Analysis\n",
      "srikanya\n",
      "200\n"
     ]
    }
   ],
   "source": [
    "print(d2['session'])\n",
    "print(d2['k3'])\n",
    "print(d2['k1'])"
   ]
  },
  {
   "cell_type": "code",
   "execution_count": 13,
   "id": "b72f84a3",
   "metadata": {},
   "outputs": [
    {
     "name": "stdout",
     "output_type": "stream",
     "text": [
      "{'k1': 200, 'k2': 500, 3: 'python', 'k3': 'srikanya', 'session': 'Data-Analysis'}\n",
      "{'k1': 200, 'k2': 500, 3: 'cse', 'k3': 'srikanya', 'session': 'Data-Analysis'}\n"
     ]
    }
   ],
   "source": [
    "#### how to update dictionary values\n",
    "print(d2)\n",
    "d2[3]=\"cse\"\n",
    "print(d2)"
   ]
  },
  {
   "cell_type": "code",
   "execution_count": 14,
   "id": "0963622d",
   "metadata": {},
   "outputs": [
    {
     "name": "stdout",
     "output_type": "stream",
     "text": [
      "['__class__', '__class_getitem__', '__contains__', '__delattr__', '__delitem__', '__dir__', '__doc__', '__eq__', '__format__', '__ge__', '__getattribute__', '__getitem__', '__gt__', '__hash__', '__init__', '__init_subclass__', '__ior__', '__iter__', '__le__', '__len__', '__lt__', '__ne__', '__new__', '__or__', '__reduce__', '__reduce_ex__', '__repr__', '__reversed__', '__ror__', '__setattr__', '__setitem__', '__sizeof__', '__str__', '__subclasshook__', 'clear', 'copy', 'fromkeys', 'get', 'items', 'keys', 'pop', 'popitem', 'setdefault', 'update', 'values']\n"
     ]
    }
   ],
   "source": [
    "#### methods\n",
    "print(dir(dict))"
   ]
  },
  {
   "cell_type": "markdown",
   "id": "c275e50b",
   "metadata": {},
   "source": [
    "#### keys():\n",
    "        - to get the only key names in the dictionary in the formate of list\n",
    "        - dict_name.keys()"
   ]
  },
  {
   "cell_type": "code",
   "execution_count": 15,
   "id": "fad23929",
   "metadata": {},
   "outputs": [
    {
     "name": "stdout",
     "output_type": "stream",
     "text": [
      "{'k1': 200, 'k2': 500, 3: 'cse', 'k3': 'srikanya', 'session': 'Data-Analysis'}\n"
     ]
    }
   ],
   "source": [
    "print(d2)"
   ]
  },
  {
   "cell_type": "code",
   "execution_count": 16,
   "id": "2107dd9b",
   "metadata": {},
   "outputs": [
    {
     "data": {
      "text/plain": [
       "dict_keys(['k1', 'k2', 3, 'k3', 'session'])"
      ]
     },
     "execution_count": 16,
     "metadata": {},
     "output_type": "execute_result"
    }
   ],
   "source": [
    "d2.keys()"
   ]
  },
  {
   "cell_type": "markdown",
   "id": "083dbee1",
   "metadata": {},
   "source": [
    "##### values:\n",
    "    - to get the dictionary values in the formate of list\n",
    "    - dict_name.values()"
   ]
  },
  {
   "cell_type": "code",
   "execution_count": 18,
   "id": "51793bb2",
   "metadata": {},
   "outputs": [
    {
     "name": "stdout",
     "output_type": "stream",
     "text": [
      "{'k1': 200, 'k2': 500, 3: 'cse', 'k3': 'srikanya', 'session': 'Data-Analysis'}\n",
      "dict_values([200, 500, 'cse', 'srikanya', 'Data-Analysis'])\n"
     ]
    }
   ],
   "source": [
    "print(d2)\n",
    "print(d2.values())"
   ]
  },
  {
   "cell_type": "markdown",
   "id": "17bc4593",
   "metadata": {},
   "source": [
    "#### items():\n",
    "    - to get the dictionary items(key,value) in the formate of tuple\n",
    "    - dict_name.items()"
   ]
  },
  {
   "cell_type": "code",
   "execution_count": 20,
   "id": "0eb75daa",
   "metadata": {},
   "outputs": [
    {
     "name": "stdout",
     "output_type": "stream",
     "text": [
      "{'k1': 200, 'k2': 500, 3: 'cse', 'k3': 'srikanya', 'session': 'Data-Analysis'}\n",
      "dict_items([('k1', 200), ('k2', 500), (3, 'cse'), ('k3', 'srikanya'), ('session', 'Data-Analysis')])\n"
     ]
    }
   ],
   "source": [
    "print(d2)\n",
    "print(d2.items())"
   ]
  },
  {
   "cell_type": "markdown",
   "id": "38e89898",
   "metadata": {},
   "source": [
    "##### copy():\n",
    "    - to copy data from one dict to another dict\n",
    "    - duplicate_dict=dict_name.copy()"
   ]
  },
  {
   "cell_type": "code",
   "execution_count": 21,
   "id": "bc54fe31",
   "metadata": {},
   "outputs": [
    {
     "data": {
      "text/plain": [
       "{'k1': 200, 'k2': 500, 3: 'cse', 'k3': 'srikanya', 'session': 'Data-Analysis'}"
      ]
     },
     "execution_count": 21,
     "metadata": {},
     "output_type": "execute_result"
    }
   ],
   "source": [
    "duplicate_dict=d2.copy()\n",
    "duplicate_dict"
   ]
  },
  {
   "cell_type": "markdown",
   "id": "0be13c50",
   "metadata": {},
   "source": [
    "##### get():\n",
    "    - to get dictionary values based on key name\n",
    "    - dict_name.get('key name')"
   ]
  },
  {
   "cell_type": "code",
   "execution_count": 25,
   "id": "50386f7e",
   "metadata": {},
   "outputs": [
    {
     "name": "stdout",
     "output_type": "stream",
     "text": [
      "{'k1': 200, 'k2': 500, 3: 'cse', 'k3': 'srikanya', 'session': 'Data-Analysis'}\n",
      "500\n",
      "Data-Analysis\n",
      "cse\n"
     ]
    }
   ],
   "source": [
    "print(d2)\n",
    "print(d2.get('k2'))\n",
    "print(d2.get('session'))\n",
    "print(d2.get(3))"
   ]
  },
  {
   "cell_type": "markdown",
   "id": "13a0ebfa",
   "metadata": {},
   "source": [
    "#### setdefault:\n",
    "    - to add the new item to end of the dict\n",
    "    - dict_name.setdefault(key,value)"
   ]
  },
  {
   "cell_type": "code",
   "execution_count": 27,
   "id": "0901955a",
   "metadata": {},
   "outputs": [
    {
     "name": "stdout",
     "output_type": "stream",
     "text": [
      "{'k1': 200, 'k2': 500, 3: 'cse', 'k3': 'srikanya', 'session': 'Data-Analysis'}\n",
      "236\n",
      "{'k1': 200, 'k2': 500, 3: 'cse', 'k3': 'srikanya', 'session': 'Data-Analysis', 'rollno': 236}\n"
     ]
    }
   ],
   "source": [
    "print(d2)\n",
    "print(d2.setdefault('rollno',236))\n",
    "print(d2)"
   ]
  },
  {
   "cell_type": "markdown",
   "id": "c4255515",
   "metadata": {},
   "source": [
    "##### update():\n",
    "    - to update any existing value in dict\n",
    "    - dict_name.update({keyname:new_value})"
   ]
  },
  {
   "cell_type": "code",
   "execution_count": 28,
   "id": "4f002974",
   "metadata": {},
   "outputs": [
    {
     "name": "stdout",
     "output_type": "stream",
     "text": [
      "{'k1': 200, 'k2': 500, 3: 'cse', 'k3': 'srikanya', 'session': 'Data-Analysis', 'rollno': 236}\n"
     ]
    }
   ],
   "source": [
    "print(d2)"
   ]
  },
  {
   "cell_type": "code",
   "execution_count": 31,
   "id": "2127ddd1",
   "metadata": {},
   "outputs": [
    {
     "name": "stdout",
     "output_type": "stream",
     "text": [
      "None\n",
      "{'k1': 200, 'k2': 500, 3: 'CSE', 'k3': 'srikanya', 'session': 'Data-Analysis', 'rollno': 236}\n",
      "None\n",
      "{'k1': 1000, 'k2': 500, 3: 'CSE', 'k3': 'srikanya', 'session': 'Data-Analysis', 'rollno': 236}\n"
     ]
    }
   ],
   "source": [
    "print(d2.update({3:'CSE'}))\n",
    "print(d2)\n",
    "print(d2.update({'k1':1000}))\n",
    "print(d2)"
   ]
  },
  {
   "cell_type": "markdown",
   "id": "c3db1d8f",
   "metadata": {},
   "source": [
    "#### pop ():\n",
    "    - to delete an item from the dict by using keyname\n",
    "    - dict_name.pop(key name)"
   ]
  },
  {
   "cell_type": "code",
   "execution_count": 37,
   "id": "f3476b62",
   "metadata": {},
   "outputs": [
    {
     "name": "stdout",
     "output_type": "stream",
     "text": [
      "{'k1': 1000, 'k2': 500, 'k3': 'srikanya', 'session': 'Data-Analysis', 'rollno': 236}\n",
      "1000\n"
     ]
    }
   ],
   "source": [
    "print(d2)\n",
    "print(d2.pop('k1'))\n"
   ]
  },
  {
   "cell_type": "code",
   "execution_count": 38,
   "id": "5f6ccc30",
   "metadata": {},
   "outputs": [
    {
     "name": "stdout",
     "output_type": "stream",
     "text": [
      "{'k2': 500, 'k3': 'srikanya', 'session': 'Data-Analysis', 'rollno': 236}\n"
     ]
    }
   ],
   "source": [
    "print(d2)"
   ]
  },
  {
   "cell_type": "markdown",
   "id": "88713c2d",
   "metadata": {},
   "source": [
    "#### popitem():\n",
    "    - to delete the last item from the dict\n",
    "    - dict_name.popitem()"
   ]
  },
  {
   "cell_type": "code",
   "execution_count": 40,
   "id": "83f83cc7",
   "metadata": {},
   "outputs": [
    {
     "name": "stdout",
     "output_type": "stream",
     "text": [
      "{'k2': 500, 'k3': 'srikanya', 'session': 'Data-Analysis', 'rollno': 236}\n",
      "('rollno', 236)\n"
     ]
    }
   ],
   "source": [
    "print(d2)\n",
    "print(d2.popitem())"
   ]
  },
  {
   "cell_type": "code",
   "execution_count": 41,
   "id": "52b6d605",
   "metadata": {},
   "outputs": [
    {
     "name": "stdout",
     "output_type": "stream",
     "text": [
      "{'k2': 500, 'k3': 'srikanya', 'session': 'Data-Analysis'}\n"
     ]
    }
   ],
   "source": [
    "print(d2)"
   ]
  },
  {
   "cell_type": "markdown",
   "id": "a2d41575",
   "metadata": {},
   "source": [
    "#### fromkeys():\n",
    "    - it returns the new dict\n",
    "    - variable_name=dict.fromkeys(values)"
   ]
  },
  {
   "cell_type": "code",
   "execution_count": 45,
   "id": "4a43aacb",
   "metadata": {},
   "outputs": [
    {
     "name": "stdout",
     "output_type": "stream",
     "text": [
      "{1: 'python', 2: 'online', 3: 'session'}\n"
     ]
    }
   ],
   "source": [
    "li=[1,2,3]\n",
    "d3=dict.fromkeys(li)\n",
    "d3[1]='python'\n",
    "d3[2]='online'\n",
    "d3[3]='session'\n",
    "print(d3)"
   ]
  },
  {
   "cell_type": "markdown",
   "id": "f2a419df",
   "metadata": {},
   "source": [
    "#### clear():\n",
    "    - to clear the data from dictionary\n",
    "    - dict_name.clear()"
   ]
  },
  {
   "cell_type": "code",
   "execution_count": 48,
   "id": "884fd244",
   "metadata": {},
   "outputs": [
    {
     "name": "stdout",
     "output_type": "stream",
     "text": [
      "{1}\n",
      "{'k2': 500, 'k3': 'srikanya', 'session': 'Data-Analysis'}\n",
      "{1: 'python', 2: 'online', 3: 'session'}\n"
     ]
    }
   ],
   "source": [
    "print(d1)\n",
    "print(d2)\n",
    "print(d3)"
   ]
  },
  {
   "cell_type": "code",
   "execution_count": 51,
   "id": "5ae8d93a",
   "metadata": {},
   "outputs": [
    {
     "name": "stdout",
     "output_type": "stream",
     "text": [
      "None\n"
     ]
    }
   ],
   "source": [
    "print(d2.clear())"
   ]
  },
  {
   "cell_type": "code",
   "execution_count": null,
   "id": "429bc2b9",
   "metadata": {},
   "outputs": [],
   "source": []
  },
  {
   "cell_type": "code",
   "execution_count": 52,
   "id": "c0788814",
   "metadata": {},
   "outputs": [
    {
     "name": "stdout",
     "output_type": "stream",
     "text": [
      "{}\n"
     ]
    }
   ],
   "source": [
    "print(d2)"
   ]
  },
  {
   "cell_type": "code",
   "execution_count": 58,
   "id": "ccbd8dc3",
   "metadata": {},
   "outputs": [
    {
     "name": "stdout",
     "output_type": "stream",
     "text": [
      "{'name': 'siri', 'rollno': 130659, 'branch': 'cse', 'section': 'A', 'cgpa': 9.0}\n",
      "name rollno branch section cgpa \n",
      "siri 130659 cse A 9.0 \n",
      "('name', 'siri') ('rollno', 130659) ('branch', 'cse') ('section', 'A') ('cgpa', 9.0) "
     ]
    }
   ],
   "source": [
    "#### by using loop we can get dict values\n",
    "d5={'name':'siri','rollno':130659,'branch':'cse','section':'A','cgpa':9.0}\n",
    "print(d5)\n",
    "for i in d5:\n",
    "    print(i,end=\" \")\n",
    "print()\n",
    "for j in d5.values():\n",
    "    print(j,end=\" \")\n",
    "print()\n",
    "for k in d5.items():\n",
    "    print(k,end=\" \")"
   ]
  },
  {
   "cell_type": "code",
   "execution_count": 59,
   "id": "2a9186ca",
   "metadata": {},
   "outputs": [
    {
     "name": "stdout",
     "output_type": "stream",
     "text": [
      "Enter your key name:name\n",
      "Enter your value here:srikanya\n",
      "{'name': 'srikanya'}\n"
     ]
    }
   ],
   "source": [
    "## to read the two inputs from user and stored that data into dict\n",
    "d6={}\n",
    "x=input(\"Enter your key name:\")\n",
    "y=input(\"Enter your value here:\")\n",
    "d6[x]=y\n",
    "print(d6)\n"
   ]
  },
  {
   "cell_type": "code",
   "execution_count": null,
   "id": "9932e11a",
   "metadata": {},
   "outputs": [],
   "source": []
  }
 ],
 "metadata": {
  "kernelspec": {
   "display_name": "Python 3 (ipykernel)",
   "language": "python",
   "name": "python3"
  },
  "language_info": {
   "codemirror_mode": {
    "name": "ipython",
    "version": 3
   },
   "file_extension": ".py",
   "mimetype": "text/x-python",
   "name": "python",
   "nbconvert_exporter": "python",
   "pygments_lexer": "ipython3",
   "version": "3.9.13"
  }
 },
 "nbformat": 4,
 "nbformat_minor": 5
}
